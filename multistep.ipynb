{
 "cells": [
  {
   "cell_type": "code",
   "execution_count": null,
   "metadata": {},
   "outputs": [],
   "source": [
    "%load_ext autoreload\n",
    "%autoreload 2\n",
    "import numpy as np\n",
    "import gym\n",
    "from main.maml_agent import MAMLAgent, register_flags\n",
    "from main.alpaca import *\n",
    "from main.datagen import *\n",
    "from main.dataViz import *\n",
    "register_flags()"
   ]
  },
  {
   "cell_type": "code",
   "execution_count": null,
   "metadata": {},
   "outputs": [],
   "source": [
    "cfg_filename = 'configs/multistep-config.yml'\n",
    "with open(cfg_filename,'r') as ymlfile:\n",
    "    config = yaml.load(ymlfile)"
   ]
  },
  {
   "cell_type": "code",
   "execution_count": null,
   "metadata": {},
   "outputs": [],
   "source": [
    "DG = DataGenerator(config,None,'Multistep')\n",
    "N_train = 5000\n",
    "N_test = 500\n",
    "test_horz = 30\n",
    "Y,X,step_mat = DG.sample_trajectories(None,test_horz,N_train,return_lists=True)\n",
    "Y_test,X_test,step_mat_test = DG.sample_trajectories(None,test_horz,N_test,return_lists=True)"
   ]
  },
  {
   "cell_type": "markdown",
   "metadata": {},
   "source": [
    "## Default agent"
   ]
  },
  {
   "cell_type": "code",
   "execution_count": null,
   "metadata": {},
   "outputs": [],
   "source": [
    "g1 = tf.Graph()\n",
    "sess1 = tf.InteractiveSession(config=tf.ConfigProto(log_device_placement=True), graph=g1)\n",
    "agent = ALPaCA(config)"
   ]
  },
  {
   "cell_type": "code",
   "execution_count": null,
   "metadata": {
    "scrolled": false
   },
   "outputs": [],
   "source": [
    "agent.construct_model(sess1,g1)"
   ]
  },
  {
   "cell_type": "code",
   "execution_count": null,
   "metadata": {
    "scrolled": false
   },
   "outputs": [],
   "source": [
    "agent.train(sess1,Y,X,5000)"
   ]
  },
  {
   "cell_type": "markdown",
   "metadata": {},
   "source": [
    "## Agent without meta-training"
   ]
  },
  {
   "cell_type": "code",
   "execution_count": null,
   "metadata": {
    "scrolled": false
   },
   "outputs": [],
   "source": [
    "g2 = tf.Graph()\n",
    "sess2 = tf.Session(config=tf.ConfigProto(log_device_placement=True), graph=g2)\n",
    "agent_nometa = ALPaCA(config)\n",
    "agent_nometa.config['data_horizon'] = 0\n",
    "agent_nometa.construct_model(sess2,g2)"
   ]
  },
  {
   "cell_type": "code",
   "execution_count": null,
   "metadata": {},
   "outputs": [],
   "source": [
    "agent_nometa.train(sess2, Y,X, 5000)"
   ]
  },
  {
   "cell_type": "markdown",
   "metadata": {},
   "source": [
    "## GP regression agent"
   ]
  },
  {
   "cell_type": "code",
   "execution_count": null,
   "metadata": {},
   "outputs": [],
   "source": [
    "from gp_reg import *\n",
    "\n",
    "GPR_agent = GPReg()"
   ]
  },
  {
   "cell_type": "markdown",
   "metadata": {},
   "source": [
    "## MAML agent"
   ]
  },
  {
   "cell_type": "code",
   "execution_count": null,
   "metadata": {},
   "outputs": [],
   "source": [
    "g3 = tf.Graph()\n",
    "sess3 = tf.Session(config=tf.ConfigProto(log_device_placement=True), graph=g3)\n",
    "maml_agent = MAMLAgent(config, exp_string=\"multistep_test1\")\n",
    "maml_agent.construct_model(sess3, g3)"
   ]
  },
  {
   "cell_type": "code",
   "execution_count": null,
   "metadata": {},
   "outputs": [],
   "source": [
    "maml_agent.train(sess3, DG, 15000)"
   ]
  },
  {
   "cell_type": "markdown",
   "metadata": {},
   "source": [
    "# Visualize all agents"
   ]
  },
  {
   "cell_type": "code",
   "execution_count": null,
   "metadata": {
    "scrolled": false
   },
   "outputs": [],
   "source": [
    "ind = 0\n",
    "sample_size_list = [0,5,10,15,25]\n",
    "plt.figure(figsize=(9,len(sample_size_list)*1))\n",
    "for i,num_pts in enumerate(sample_size_list):\n",
    "    X_update = X_test[ind:(ind+1),:num_pts,:]\n",
    "    Y_update = Y_test[ind:(ind+1),:num_pts,:]\n",
    "\n",
    "    title=None\n",
    "    legend=False\n",
    "    if i == 0:\n",
    "        legend=True\n",
    "        title=True\n",
    "\n",
    "    ax1 = plt.subplot(len(sample_size_list),3,3*i+1)\n",
    "    gen_multistep_fig(agent, sess1, X_update, Y_update, step_mat_test[ind,:], label=None)\n",
    "    if i == 0:\n",
    "        plt.title('ALPaCA')\n",
    "    if i < len(sample_size_list) - 1:\n",
    "        plt.setp(ax1.get_xticklabels(), visible=False)\n",
    "\n",
    "    ax2 = plt.subplot(len(sample_size_list),3,3*i+2, sharey=ax1)\n",
    "    gen_multistep_fig(agent_nometa, sess2, X_update, Y_update, step_mat_test[ind,:], label=None)\n",
    "    plt.setp(ax2.get_yticklabels(), visible=False)\n",
    "\n",
    "    if i == 0:\n",
    "        plt.title('ALPaCA (no meta)')\n",
    "    if i < len(sample_size_list) - 1:\n",
    "        plt.setp(ax2.get_xticklabels(), visible=False)\n",
    "\n",
    "    ax3 = plt.subplot(len(sample_size_list),3,3*i+3, sharey=ax1)\n",
    "    gen_multistep_gp_fig(GPR_agent, X_update, Y_update, step_mat_test[ind,:], label=None)\n",
    "    plt.setp(ax3.get_yticklabels(), visible=False)\n",
    "    if i == 0:\n",
    "        plt.title('GPR')\n",
    "    if i < len(sample_size_list) - 1:\n",
    "        plt.setp(ax3.get_xticklabels(), visible=False)\n",
    "\n",
    "plt.tight_layout(w_pad=0.0,h_pad=0.2)\n",
    "plt.savefig('figures/multistep_three.pdf')\n",
    "plt.show()"
   ]
  },
  {
   "cell_type": "code",
   "execution_count": null,
   "metadata": {},
   "outputs": [],
   "source": [
    "import time\n",
    "\n",
    "def gaussian_nll(y,mu,Sig):\n",
    "    #assuming scalars being passed in for now\n",
    "    n = 1#len(y)\n",
    "    logdet = np.log(Sig) #np.log(np.linalg.det(Sig))\n",
    "    quadform = (y-mu) #((y-mu).T * (1/Sig) * (y-mu))\n",
    "    nll = n*np.log(2*np.pi) + logdet + ((y-mu).T * (1/Sig) * (y-mu))\n",
    "    return 0.5*nll\n",
    "\n",
    "def MSE(y,mu):\n",
    "    return (y-mu)**2\n",
    "\n",
    "def get_stats(meas, N):\n",
    "    mean = sum(meas)/N\n",
    "    var = sum([(nl - mean)**2 for nl in meas])/(N-1)\n",
    "    return mean, var\n",
    "\n",
    "alpaca_nll_mean = []\n",
    "alpaca_nll_var = []\n",
    "alpaca_time_mean = []\n",
    "alpaca_time_var = []\n",
    "alpaca_mse_mean = []\n",
    "alpaca_mse_var = []\n",
    "\n",
    "maml_time_mean = []\n",
    "maml_time_var = []\n",
    "maml_mse_mean = []\n",
    "maml_mse_var = []\n",
    "maml5_mse_mean = []\n",
    "maml5_mse_var = []\n",
    "\n",
    "lpaca_nll_mean = []\n",
    "lpaca_nll_var = []\n",
    "lpaca_time_mean = []\n",
    "lpaca_time_var = []\n",
    "\n",
    "gp_nll_mean = []\n",
    "gp_nll_var = []\n",
    "gp_time_mean = []\n",
    "gp_time_var = []\n",
    "\n",
    "N_test = 500\n",
    "\n",
    "for j in range(test_horz):\n",
    "    nll_list_alpaca = []\n",
    "    nll_list_lpaca = []\n",
    "    nll_list_gp = []\n",
    "    \n",
    "    mse_list_alpaca = []\n",
    "    mse_list_maml = []\n",
    "    mse_list_maml5 = []\n",
    "\n",
    "    time_list_alpaca = []\n",
    "    time_list_maml = []\n",
    "    time_list_lpaca = []\n",
    "    time_list_gp = []\n",
    "    \n",
    "    for ind in range(N_test):\n",
    "        X_update = X_test[ind:(ind+1),:j,:]\n",
    "        Y_update = Y_test[ind:(ind+1),:j,:]\n",
    "        x_pt = X_test[ind:(ind+1),(j):(j+1),:]\n",
    "        y_pt = Y_test[ind:(ind+1),(j):(j+1),:]\n",
    "    \n",
    "        t1_alpaca = time.process_time()\n",
    "        y, s = agent.test(sess1, X_update, Y_update, x_pt)\n",
    "        t2_alpaca = time.process_time()\n",
    "        \n",
    "        t1_maml = time.process_time()\n",
    "        y_maml, s = maml_agent.test(sess3, X_update, Y_update, x_pt)\n",
    "        t2_maml = time.process_time()\n",
    "        y_maml5, s = maml_agent.test(sess3, X_update, Y_update, x_pt, num_updates=5)\n",
    "        \n",
    "        time_list_alpaca.append(t2_alpaca - t1_alpaca)\n",
    "        time_list_maml.append(t2_maml - t1_maml)\n",
    "        \n",
    "        mse_list_alpaca.append(MSE(y_pt[0,0,0],y[0,0,0]))\n",
    "        mse_list_maml.append(MSE(y_pt[0,0,0], y_maml[0,0,0]))\n",
    "        mse_list_maml5.append(MSE(y_pt[0,0,0], y_maml5[0,0,0]))\n",
    "        \n",
    "    \n",
    "    time_mean_alpaca, time_var_alpaca = get_stats(time_list_alpaca,N_test)\n",
    "    time_mean_maml, time_var_maml = get_stats(time_list_maml,N_test)\n",
    "    \n",
    "    mse_mean_alpaca, mse_var_alpaca = get_stats(mse_list_alpaca,N_test)\n",
    "    mse_mean_maml, mse_var_maml = get_stats(mse_list_maml,N_test)\n",
    "    mse_mean_maml5, mse_var_maml5 = get_stats(mse_list_maml5,N_test)\n",
    "    \n",
    "    alpaca_time_mean.append(time_mean_alpaca)\n",
    "    alpaca_time_var.append(time_var_alpaca)\n",
    "    \n",
    "    maml_time_mean.append(time_mean_maml)\n",
    "    maml_time_var.append(time_var_maml)\n",
    "    \n",
    "    alpaca_mse_mean.append(mse_mean_alpaca)\n",
    "    alpaca_mse_var.append(mse_var_alpaca)\n",
    "    \n",
    "    maml_mse_mean.append(mse_mean_maml)\n",
    "    maml_mse_var.append(mse_var_maml)\n",
    "    \n",
    "    maml5_mse_mean.append(mse_mean_maml5)\n",
    "    maml5_mse_var.append(mse_var_maml5)"
   ]
  },
  {
   "cell_type": "code",
   "execution_count": null,
   "metadata": {},
   "outputs": [],
   "source": [
    "plt.figure(figsize=(3.5,3))\n",
    "nll_plot(alpaca_nll_mean,alpaca_nll_var,lpaca_nll_mean,lpaca_nll_var,gp_nll_mean,gp_nll_var,N_test,legend=True)\n",
    "plt.tight_layout()\n",
    "plt.savefig('figures/nll_multistep.pdf')\n",
    "plt.show()"
   ]
  },
  {
   "cell_type": "code",
   "execution_count": null,
   "metadata": {},
   "outputs": [],
   "source": [
    "plt.figure(figsize=(3.5,3))\n",
    "mse_plot(alpaca_mse_mean,alpaca_mse_var,maml_mse_mean,maml_mse_var,maml5_mse_mean,maml5_mse_var,N_test,legend=True)\n",
    "plt.tight_layout()\n",
    "plt.savefig('figures/mse_multistep.pdf')\n",
    "plt.show()"
   ]
  },
  {
   "cell_type": "code",
   "execution_count": null,
   "metadata": {},
   "outputs": [],
   "source": [
    "plt.tight_layout(w_pad=0.0,h_pad=0.2)\n",
    "plt.figure(figsize=(3.5,3))\n",
    "time_plot(alpaca_time_mean,alpaca_time_var,lpaca_time_mean,lpaca_time_var,gp_time_mean,gp_time_var,N_test,legend=True)\n",
    "plt.savefig('figures/time_multistep.pdf')\n",
    "plt.show()"
   ]
  }
 ],
 "metadata": {
  "kernelspec": {
   "display_name": "Python 3",
   "language": "python",
   "name": "python3"
  },
  "language_info": {
   "codemirror_mode": {
    "name": "ipython",
    "version": 3
   },
   "file_extension": ".py",
   "mimetype": "text/x-python",
   "name": "python",
   "nbconvert_exporter": "python",
   "pygments_lexer": "ipython3",
   "version": "3.5.2"
  }
 },
 "nbformat": 4,
 "nbformat_minor": 2
}
