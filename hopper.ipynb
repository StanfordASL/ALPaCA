{
 "cells": [
  {
   "cell_type": "code",
   "execution_count": null,
   "metadata": {},
   "outputs": [],
   "source": [
    "%load_ext autoreload\n",
    "%autoreload 2\n",
    "import numpy as np\n",
    "import gym\n",
    "from main.alpaca import *\n",
    "from main.dataset import *\n",
    "from main.dataViz import *\n",
    "import main.train_policy\n",
    "from baselines.common import tf_util as U\n",
    "from baselines import logger\n",
    "import yaml"
   ]
  },
  {
   "cell_type": "code",
   "execution_count": null,
   "metadata": {},
   "outputs": [],
   "source": [
    "cfg_filename = 'configs/hopper-config.yml'\n",
    "with open(cfg_filename,'r') as ymlfile:\n",
    "    config = yaml.load(ymlfile)"
   ]
  },
  {
   "cell_type": "code",
   "execution_count": null,
   "metadata": {},
   "outputs": [],
   "source": [
    "def randomize_hopper(env):\n",
    "    ts = config['torso_min'] + np.random.rand()*(config['torso_max'] - config['torso_min'])\n",
    "    f = config['friction_min'] + np.random.rand()*(config['friction_max'] - config['friction_min'])\n",
    "    \n",
    "    env.friction = f\n",
    "    env.torso_size = ts\n",
    "    env.apply_env_modifications()"
   ]
  },
  {
   "cell_type": "code",
   "execution_count": null,
   "metadata": {},
   "outputs": [],
   "source": [
    "env_id = 'Hopper-v2'\n",
    "env = Randomizer(gym.make(env_id),randomize_hopper)"
   ]
  },
  {
   "cell_type": "markdown",
   "metadata": {},
   "source": [
    "Train policy if it hasn't been trained already:"
   ]
  },
  {
   "cell_type": "code",
   "execution_count": null,
   "metadata": {},
   "outputs": [],
   "source": [
    "logger.configure()\n",
    "pi = main.train_policy.train(env_id, num_timesteps=1000000, seed=1124, model_path='policies/hopper')"
   ]
  },
  {
   "cell_type": "markdown",
   "metadata": {},
   "source": [
    "Or just load it:"
   ]
  },
  {
   "cell_type": "code",
   "execution_count": null,
   "metadata": {
    "scrolled": false
   },
   "outputs": [],
   "source": [
    "logger.configure()\n",
    "pi = train_policy.train(env_id, num_timesteps=1, seed=1124)\n",
    "U.load_state('policies/hopper')"
   ]
  },
  {
   "cell_type": "code",
   "execution_count": null,
   "metadata": {},
   "outputs": [],
   "source": [
    "def train_hopper_pol(ob):\n",
    "    return pi.act(stochastic=True, ob=ob)[0]\n",
    "def test_hopper_pol(ob):\n",
    "    return pi.act(stochastic=False, ob=ob)[0]"
   ]
  },
  {
   "cell_type": "code",
   "execution_count": null,
   "metadata": {},
   "outputs": [],
   "source": [
    "N_train = 30000\n",
    "N_test = 500\n",
    "\n",
    "DG = DataGenerator(config,env,'Hopper-v2')\n",
    "Y,X = DG.sample_trajectories(train_hopper_pol,400,N_train,return_lists=False)\n",
    "Y_test,X_test = DG.sample_trajectories(test_hopper_pol,400,N_test,return_lists=False)\n",
    "with open('hopper_data_long.npz', 'wb') as f:\n",
    "    np.savez(f, Y=Y, X=X, Y_test=Y_test, X_test=X_test)"
   ]
  },
  {
   "cell_type": "code",
   "execution_count": null,
   "metadata": {},
   "outputs": [],
   "source": [
    "with open('hopper_data.npz', 'rb') as f:\n",
    "    data = np.load(f)\n",
    "\n",
    "    X = data['X']\n",
    "    Y = data['Y']\n",
    "    Y_test = data['Y_test']\n",
    "    X_test = data['X_test']"
   ]
  },
  {
   "cell_type": "code",
   "execution_count": null,
   "metadata": {},
   "outputs": [],
   "source": [
    "dataset = GymDataset(env,train_hopper_pol)\n",
    "test_dataset = GymDataset(env,test_hopper_pol)\n",
    "\n",
    "N_test = 500\n",
    "N_train = 30000\n",
    "test_horz = 100\n",
    "\n",
    "X_train, Y_train = dataset.sample(N_train, test_horz, verbose=True)\n",
    "X_test, Y_test = test_dataset.sample(N_test, test_horz, verbose=True)"
   ]
  },
  {
   "cell_type": "code",
   "execution_count": null,
   "metadata": {},
   "outputs": [],
   "source": [
    "train_dataset = PresampledDataset(X_train, Y_train)"
   ]
  },
  {
   "cell_type": "markdown",
   "metadata": {},
   "source": [
    "## DynamicsAgent"
   ]
  },
  {
   "cell_type": "code",
   "execution_count": null,
   "metadata": {},
   "outputs": [],
   "source": [
    "g3 = tf.Graph()\n",
    "sess3 = tf.Session(config=tf.ConfigProto(log_device_placement=True), graph=g3)\n",
    "dyn_model = AdaptiveDynamics(config,sess3,g3)\n",
    "dyn_model.construct_model()"
   ]
  },
  {
   "cell_type": "code",
   "execution_count": null,
   "metadata": {},
   "outputs": [],
   "source": [
    "dyn_model.train(train_dataset, 5000)"
   ]
  },
  {
   "cell_type": "code",
   "execution_count": null,
   "metadata": {},
   "outputs": [],
   "source": [
    "N_test = 500\n",
    "test_horz = 100\n",
    "X_test, Y_test = dataset.sample(N_test, test_horz)"
   ]
  },
  {
   "cell_type": "code",
   "execution_count": null,
   "metadata": {},
   "outputs": [],
   "source": [
    "ind =7\n",
    "import matplotlib.pyplot as plt\n",
    "plt.figure(figsize=(5,24))\n",
    "T = X_test[ind,:,:].shape[0]\n",
    "for i in range(config['x_dim']):\n",
    "    plt.subplot(config['x_dim'],1,i+1)\n",
    "    plt.plot(np.arange(T), X_test[ind,:,i])\n",
    "    plt.ylabel(r\"$x_\"+str(i+1)+\"(t)$\")\n",
    "plt.show()"
   ]
  },
  {
   "cell_type": "code",
   "execution_count": null,
   "metadata": {},
   "outputs": [],
   "source": [
    "ind = 4\n",
    "T = 75\n",
    "N_samples = 50\n",
    "t_init = 0\n",
    "\n",
    "fig = plt.figure(figsize=(9,7))\n",
    "for i,Nu in enumerate( [1, 28, 56] ):\n",
    "    test_adaptive_dynamics(dyn_model, X_test[ind:ind+1,t_init:t_init+T,:], Y_test[ind:ind+1,t_init:t_init+T,:], N_samples, Nu, T_rollout=15)\n",
    "\n",
    "plt.tight_layout(w_pad=0.2,h_pad=0.2)\n",
    "plt.savefig('figures/hopper_rollouts_2.pdf')\n",
    "plt.show()"
   ]
  },
  {
   "cell_type": "code",
   "execution_count": null,
   "metadata": {},
   "outputs": [],
   "source": []
  }
 ],
 "metadata": {
  "kernelspec": {
   "display_name": "Python 3",
   "language": "python",
   "name": "python3"
  },
  "language_info": {
   "codemirror_mode": {
    "name": "ipython",
    "version": 3
   },
   "file_extension": ".py",
   "mimetype": "text/x-python",
   "name": "python",
   "nbconvert_exporter": "python",
   "pygments_lexer": "ipython3",
   "version": "3.5.2"
  }
 },
 "nbformat": 4,
 "nbformat_minor": 2
}
