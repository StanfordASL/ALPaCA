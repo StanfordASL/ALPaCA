{
 "cells": [
  {
   "cell_type": "code",
   "execution_count": null,
   "metadata": {},
   "outputs": [],
   "source": [
    "%load_ext autoreload\n",
    "%autoreload 2\n",
    "import numpy as np\n",
    "import gym\n",
    "from main.alpaca import *\n",
    "from main.datagen import *\n",
    "from main.dataViz import *"
   ]
  },
  {
   "cell_type": "code",
   "execution_count": null,
   "metadata": {},
   "outputs": [],
   "source": [
    "cfg_filename = 'configs/pendulum-config.yml'\n",
    "with open(cfg_filename,'r') as ymlfile:\n",
    "    config = yaml.load(ymlfile)"
   ]
  },
  {
   "cell_type": "code",
   "execution_count": null,
   "metadata": {},
   "outputs": [],
   "source": [
    "N_train = 5000\n",
    "N_test = 500\n",
    "test_horz = 100\n",
    "env = gym.make('Pendulum-v0')\n",
    "DG = DataGenerator(config,env,'Pendulum-v0')\n",
    "Y,X = DG.sample_trajectories(pi_zero,test_horz,N_train,return_lists=False)\n",
    "Y_test,X_test = DG.sample_trajectories(pi_zero,test_horz,N_test,return_lists=False)"
   ]
  },
  {
   "cell_type": "markdown",
   "metadata": {},
   "source": [
    "## Agent"
   ]
  },
  {
   "cell_type": "code",
   "execution_count": null,
   "metadata": {},
   "outputs": [],
   "source": [
    "g1 = tf.Graph()\n",
    "sess1 = tf.InteractiveSession(config=tf.ConfigProto(log_device_placement=True), graph=g1)\n",
    "agent = ALPaCA(config)"
   ]
  },
  {
   "cell_type": "code",
   "execution_count": null,
   "metadata": {
    "scrolled": false
   },
   "outputs": [],
   "source": [
    "agent.construct_model(sess1)"
   ]
  },
  {
   "cell_type": "code",
   "execution_count": null,
   "metadata": {
    "scrolled": true
   },
   "outputs": [],
   "source": [
    "agent.train(sess1,Y,X,5000)"
   ]
  },
  {
   "cell_type": "markdown",
   "metadata": {},
   "source": [
    "## Agent without meta training"
   ]
  },
  {
   "cell_type": "code",
   "execution_count": null,
   "metadata": {},
   "outputs": [],
   "source": [
    "g2 = tf.Graph()\n",
    "sess2 = tf.Session(config=tf.ConfigProto(log_device_placement=True), graph=g2)\n",
    "agent_nometa = ALPaCA(config)\n",
    "agent_nometa.config['data_horizon'] = 0\n",
    "agent_nometa.construct_model(sess2,g2)\n",
    "agent_nometa.train(sess2, Y,X, 10000)"
   ]
  },
  {
   "cell_type": "markdown",
   "metadata": {},
   "source": [
    "## GP Agent"
   ]
  },
  {
   "cell_type": "code",
   "execution_count": null,
   "metadata": {},
   "outputs": [],
   "source": [
    "from gp_reg import *\n",
    "\n",
    "GPR_agent = GPReg()"
   ]
  },
  {
   "cell_type": "markdown",
   "metadata": {},
   "source": [
    "## DynamicsAgent"
   ]
  },
  {
   "cell_type": "code",
   "execution_count": null,
   "metadata": {},
   "outputs": [],
   "source": [
    "g3 = tf.Graph()\n",
    "sess3 = tf.Session(config=tf.ConfigProto(log_device_placement=True), graph=g3)\n",
    "dyn_model = AdaptiveDynamics(config)\n",
    "dyn_model.construct_model(sess3,g3)"
   ]
  },
  {
   "cell_type": "code",
   "execution_count": null,
   "metadata": {},
   "outputs": [],
   "source": [
    "dyn_model.train(sess3, Y,X, 1000)"
   ]
  },
  {
   "cell_type": "code",
   "execution_count": null,
   "metadata": {},
   "outputs": [],
   "source": [
    "ind = 7\n",
    "for Nu in [0,3,5,10]:\n",
    "    gen_pendulum_onestep_fig(agent,sess1,X_test[ind:ind+1,:,:],Y_test[ind:ind+1,:,:],Nu=Nu,T=30)"
   ]
  },
  {
   "cell_type": "code",
   "execution_count": null,
   "metadata": {},
   "outputs": [],
   "source": [
    "ind = 7\n",
    "T = 50\n",
    "N_samples = 50\n",
    "for Nu in [0,15,30]:\n",
    "    plt.figure()\n",
    "    #gen_pendulum_sample_fig(dyn_model, sess3, X_test[ind:ind+1,:,:], Y_test[ind:ind+1,:,:], Nu, N_samples=N_samples,T=T, T_rollout= 20)\n",
    "    test_adaptive_dynamics(dyn_model, sess3, X_test[ind:ind+1,:T,:], Y_test[ind:ind+1,:T,:], N_samples, Nu)\n",
    "    plt.show()"
   ]
  },
  {
   "cell_type": "code",
   "execution_count": null,
   "metadata": {},
   "outputs": [],
   "source": [
    "ind = 0\n",
    "sample_size_list = [0,10,20,30]\n",
    "T=60\n",
    "N_samples=50\n",
    "T_rollout = 30\n",
    "\n",
    "plt.figure(figsize=(9,5))\n",
    "for i,Nu in enumerate(sample_size_list):\n",
    "    title=None\n",
    "    legend=False\n",
    "    if i == 0:\n",
    "        legend=True\n",
    "        title=True\n",
    "        \n",
    "    ax1 = plt.subplot(len(sample_size_list),3,3*i+1)\n",
    "    gen_pendulum_sample_fig(agent, sess1, X_test[ind:ind+1,:,:], Y_test[ind:ind+1,:,:], Nu, N_samples=N_samples,T=T, T_rollout=T_rollout)\n",
    "    if i == 0:\n",
    "        plt.title('ALPaCA')\n",
    "    if i < len(sample_size_list) - 1:\n",
    "        plt.setp(ax1.get_xticklabels(), visible=False)\n",
    "    \n",
    "    ax2 = plt.subplot(len(sample_size_list),3,3*i+2, sharey=ax1)\n",
    "    gen_pendulum_sample_fig(agent_nometa, sess2, X_test[ind:ind+1,:,:], Y_test[ind:ind+1,:,:], Nu, N_samples=N_samples,T=T, T_rollout=T_rollout)\n",
    "    plt.setp(ax2.get_yticklabels(), visible=False)\n",
    "    if i == 0:\n",
    "        plt.title('ALPaCA (no meta)')\n",
    "    if i < len(sample_size_list) - 1:\n",
    "        plt.setp(ax2.get_xticklabels(), visible=False)\n",
    "    \n",
    "    ax3 = plt.subplot(len(sample_size_list),3,3*i+3, sharey=ax1)\n",
    "    gen_pendulum_sample_fig(agent_nometa, sess2, X_test[ind:ind+1,:,:], Y_test[ind:ind+1,:,:], Nu, N_samples=N_samples,T=T, T_rollout=T_rollout,no_update=True)\n",
    "    plt.setp(ax2.get_yticklabels(), visible=False)\n",
    "    if i == 0:\n",
    "        plt.title('ALPaCA (no update)')\n",
    "    if i < len(sample_size_list) - 1:\n",
    "        plt.setp(ax2.get_xticklabels(), visible=False)\n",
    "    \n",
    "plt.tight_layout(w_pad=0.0,h_pad=0.2)\n",
    "plt.savefig('figures/pendulum_three.pdf')\n",
    "plt.show()"
   ]
  },
  {
   "cell_type": "code",
   "execution_count": null,
   "metadata": {},
   "outputs": [],
   "source": [
    "# compute NLL for all three models\n",
    "import time\n",
    "\n",
    "def gaussian_nll(y,mu,Sig):\n",
    "    n = 2\n",
    "    logdet = np.log(np.linalg.det(Sig)) \n",
    "    quadform = ((y-mu).T @ (np.linalg.inv(Sig)) @ (y-mu))\n",
    "    nll = n*np.log(2*np.pi) + logdet + quadform\n",
    "    \n",
    "    return 0.5*nll\n",
    "\n",
    "def MSE(y,mu):\n",
    "    return (y-mu)**2\n",
    "\n",
    "def get_stats(meas, N):\n",
    "    mean = sum(meas)/N\n",
    "    var = sum([(nl - mean)**2 for nl in meas])/(N-1)\n",
    "    return mean, var\n",
    "\n",
    "alpaca_nll_mean = []\n",
    "alpaca_nll_var = []\n",
    "alpaca_time_mean = []\n",
    "alpaca_time_var = []\n",
    "\n",
    "lpaca_nll_mean = []\n",
    "lpaca_nll_var = []\n",
    "lpaca_time_mean = []\n",
    "lpaca_time_var = []\n",
    "\n",
    "prior_nll_mean = []\n",
    "prior_nll_var = []\n",
    "\n",
    "N_test = 500\n",
    "\n",
    "test_horz1 = T\n",
    "for j in range(test_horz1):\n",
    "    nll_list_alpaca = []\n",
    "    nll_list_lpaca = []\n",
    "    nll_list_prior = []\n",
    "    \n",
    "    time_list_alpaca = []\n",
    "    time_list_lpaca = []\n",
    "    \n",
    "    for ind in range(N_test):\n",
    "        X_update = X_test[ind:(ind+1),:j,:]\n",
    "        Y_update = Y_test[ind:(ind+1),:j,:]\n",
    "        x_pt = X_test[ind:(ind+1),(j):(j+1),:]\n",
    "        y_pt = Y_test[ind:(ind+1),(j):(j+1),:]\n",
    "    \n",
    "        X_empty = X_test[ind:(ind+1),:0,:]\n",
    "        Y_empty = Y_test[ind:(ind+1),:0,:]\n",
    "\n",
    "        t1_alpaca = time.process_time()\n",
    "        y, s = agent.test(sess1, X_update, Y_update, x_pt)\n",
    "        t2_alpaca = time.process_time()\n",
    "        \n",
    "        t1_lpaca = time.process_time()\n",
    "        y_lpaca,s_lpaca = agent_nometa.test(sess2, X_update, Y_update, x_pt)\n",
    "        t2_lpaca = time.process_time()\n",
    "        \n",
    "        y_prior,s_prior = agent_nometa.test(sess2, X_empty, Y_empty, x_pt)\n",
    "\n",
    "        time_list_alpaca.append(t2_alpaca - t1_alpaca)\n",
    "        time_list_lpaca.append(t2_lpaca - t1_lpaca)\n",
    "            \n",
    "        nll_list_alpaca.append(gaussian_nll(y_pt[0,0,:],y[0,0,:],s[0,0,:,:]))\n",
    "        nll_list_lpaca.append(gaussian_nll(y_pt[0,0,:],y_lpaca[0,0,:],s_lpaca[0,0,:,:]))\n",
    "        nll_list_prior.append(gaussian_nll(y_pt[0,0,:],y_prior[0,0,:],s_prior[0,0,:,:]))\n",
    "        \n",
    "    nll_mean_alpaca, nll_var_alpaca = get_stats(nll_list_alpaca,N_test)\n",
    "    nll_mean_lpaca, nll_var_lpaca = get_stats(nll_list_lpaca,N_test)\n",
    "    nll_mean_prior, nll_var_prior = get_stats(nll_list_prior,N_test)\n",
    "    \n",
    "    time_mean_alpaca, time_var_alpaca = get_stats(time_list_alpaca,N_test)\n",
    "    time_mean_lpaca, time_var_lpaca = get_stats(time_list_lpaca,N_test)\n",
    "    \n",
    "    alpaca_nll_mean.append(nll_mean_alpaca)\n",
    "    alpaca_nll_var.append(nll_var_alpaca)\n",
    "    \n",
    "    lpaca_nll_mean.append(nll_mean_lpaca)\n",
    "    lpaca_nll_var.append(nll_var_lpaca)\n",
    "    \n",
    "    prior_nll_mean.append(nll_mean_prior)\n",
    "    prior_nll_var.append(nll_var_prior)\n",
    "    \n",
    "    alpaca_time_mean.append(time_mean_alpaca)\n",
    "    alpaca_time_var.append(time_var_alpaca)\n",
    "    \n",
    "    lpaca_time_mean.append(time_mean_lpaca)\n",
    "    lpaca_time_var.append(time_var_lpaca)"
   ]
  },
  {
   "cell_type": "code",
   "execution_count": null,
   "metadata": {},
   "outputs": [],
   "source": [
    "plt.figure(figsize=(3.5,3))\n",
    "nll_plot(alpaca_nll_mean,alpaca_nll_var,lpaca_nll_mean,lpaca_nll_var,prior_nll_mean,prior_nll_var,N_test,legend=True,last_legend_label=r'ALPaCA (no update)')\n",
    "plt.tight_layout()\n",
    "plt.savefig('figures/nll_pendulum.pdf')\n",
    "plt.show()"
   ]
  },
  {
   "cell_type": "code",
   "execution_count": null,
   "metadata": {},
   "outputs": [],
   "source": [
    "plt.figure(figsize=(3.5,3))\n",
    "nll_plot(alpaca_nll_mean,alpaca_nll_var,lpaca_nll_mean,lpaca_nll_var,None,None,N_test,legend=True)\n",
    "plt.tight_layout()\n",
    "plt.savefig('figures/nll_pendulum.pdf')\n",
    "plt.show()"
   ]
  },
  {
   "cell_type": "code",
   "execution_count": null,
   "metadata": {},
   "outputs": [],
   "source": [
    "plt.tight_layout(w_pad=0.0,h_pad=0.2)\n",
    "plt.figure(figsize=(3.5,3))\n",
    "time_plot(alpaca_time_mean,alpaca_time_var,lpaca_time_mean,lpaca_time_var,gp_time_mean,gp_time_var,N_test,legend=True)\n",
    "plt.savefig('figures/time_multistep.pdf')\n",
    "plt.show()"
   ]
  }
 ],
 "metadata": {
  "kernelspec": {
   "display_name": "Python 3",
   "language": "python",
   "name": "python3"
  },
  "language_info": {
   "codemirror_mode": {
    "name": "ipython",
    "version": 3
   },
   "file_extension": ".py",
   "mimetype": "text/x-python",
   "name": "python",
   "nbconvert_exporter": "python",
   "pygments_lexer": "ipython3",
   "version": "3.5.2"
  }
 },
 "nbformat": 4,
 "nbformat_minor": 2
}
