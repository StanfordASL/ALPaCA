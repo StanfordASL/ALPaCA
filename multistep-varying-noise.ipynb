{
 "cells": [
  {
   "cell_type": "code",
   "execution_count": null,
   "metadata": {},
   "outputs": [],
   "source": [
    "%load_ext autoreload\n",
    "%autoreload 2\n",
    "import numpy as np\n",
    "import gym\n",
    "from main.alpaca import *\n",
    "from main.datagen import *\n",
    "from main.dataViz import *"
   ]
  },
  {
   "cell_type": "code",
   "execution_count": null,
   "metadata": {},
   "outputs": [],
   "source": [
    "cfg_filename = 'configs/multistep-config.yml'\n",
    "with open(cfg_filename,'r') as ymlfile:\n",
    "    config = yaml.load(ymlfile)"
   ]
  },
  {
   "cell_type": "code",
   "execution_count": null,
   "metadata": {
    "scrolled": false
   },
   "outputs": [],
   "source": [
    "DG = DataGenerator(config,None,'Multistep')\n",
    "N_train = 5000\n",
    "N_test = 500\n",
    "\n",
    "noise1 = 0.1\n",
    "noise2 = 0.3\n",
    "noise3 = 0.5\n",
    "\n",
    "Y1,X1,step_mat = DG.sample_trajectories(None,30,N_train,return_lists=True,sigma_eps=noise1)\n",
    "\n",
    "lists = step_mat\n",
    "\n",
    "Y2,X2 = DG.sample_trajectories(None,30,N_train,return_lists=False,sigma_eps=noise2,lists=lists)\n",
    "Y3,X3 = DG.sample_trajectories(None,30,N_train,return_lists=False,sigma_eps=noise3,lists=lists)\n",
    "\n",
    "Y_test1,X_test1,step_mat_test= DG.sample_trajectories(None,30,N_test,return_lists=True,sigma_eps=noise1)\n",
    "lists_test = step_mat_test\n",
    "np.random.seed(1)\n",
    "Y_test1,X_test1 = DG.sample_trajectories(None,30,N_test,return_lists=False,sigma_eps=noise1,lists=lists_test)\n",
    "np.random.seed(1)\n",
    "Y_test2,X_test2 = DG.sample_trajectories(None,30,N_test,return_lists=False,sigma_eps=noise2,lists=lists_test)\n",
    "np.random.seed(1)\n",
    "Y_test3,X_test3 = DG.sample_trajectories(None,30,N_test,return_lists=False,sigma_eps=noise3,lists=lists_test)"
   ]
  },
  {
   "cell_type": "markdown",
   "metadata": {},
   "source": [
    "## Default agent"
   ]
  },
  {
   "cell_type": "code",
   "execution_count": null,
   "metadata": {
    "scrolled": true
   },
   "outputs": [],
   "source": [
    "g1 = tf.Graph()\n",
    "sess1 = tf.InteractiveSession(config=tf.ConfigProto(log_device_placement=True), graph=g1)\n",
    "agent1 = ALPaCA(config)\n",
    "agent1.sigma_scalar = noise1\n",
    "agent1.construct_model(sess1,g1)\n",
    "agent1.train(sess1,Y1,X1,3000)"
   ]
  },
  {
   "cell_type": "code",
   "execution_count": null,
   "metadata": {
    "scrolled": true
   },
   "outputs": [],
   "source": [
    "g2 = tf.Graph()\n",
    "sess2 = tf.Session(config=tf.ConfigProto(log_device_placement=True), graph=g2)\n",
    "agent2 = ALPaCA(config)\n",
    "agent2.sigma_scalar = noise2\n",
    "agent2.construct_model(sess2,g2)\n",
    "agent2.train(sess2,Y2,X2,3000)"
   ]
  },
  {
   "cell_type": "code",
   "execution_count": null,
   "metadata": {
    "scrolled": true
   },
   "outputs": [],
   "source": [
    "g3 = tf.Graph()\n",
    "sess3 = tf.Session(config=tf.ConfigProto(log_device_placement=True), graph=g3)\n",
    "agent3 = ALPaCA(config)\n",
    "agent3.sigma_scalar = noise3\n",
    "agent3.construct_model(sess3,g3)\n",
    "agent3.train(sess3,Y3,X3,3000)"
   ]
  },
  {
   "cell_type": "markdown",
   "metadata": {},
   "source": [
    "# Visualize all agents"
   ]
  },
  {
   "cell_type": "code",
   "execution_count": null,
   "metadata": {
    "scrolled": false
   },
   "outputs": [],
   "source": [
    "ind = 2\n",
    "sample_size_list = [0,2,4,6,8,10,12,14,16,18,20]\n",
    "plt.figure(figsize=(9,len(sample_size_list)*1))\n",
    "for i,num_pts in enumerate(sample_size_list):\n",
    "    X_update1 = X_test1[ind:(ind+1),:num_pts,:]\n",
    "    Y_update1 = Y_test1[ind:(ind+1),:num_pts,:]\n",
    "    \n",
    "    X_update2 = X_test2[ind:(ind+1),:num_pts,:]\n",
    "    Y_update2 = Y_test2[ind:(ind+1),:num_pts,:]\n",
    "    \n",
    "    X_update3 = X_test3[ind:(ind+1),:num_pts,:]\n",
    "    Y_update3 = Y_test3[ind:(ind+1),:num_pts,:]\n",
    "    \n",
    "    title=None\n",
    "    legend=False\n",
    "    if i == 0:\n",
    "        legend=True\n",
    "        title=True\n",
    "\n",
    "    ax1 = plt.subplot(len(sample_size_list),3,3*i+1)\n",
    "    gen_multistep_fig(agent1, sess1, X_update1, Y_update1, step_mat_test[ind,:], label=None)\n",
    "    if i == 0:\n",
    "        plt.title(r'ALPaCA, ' + r'$\\Sigma_\\epsilon = 0.1$')\n",
    "    if i < len(sample_size_list) - 1:\n",
    "        plt.setp(ax1.get_xticklabels(), visible=False)\n",
    "        \n",
    "    ax2 = plt.subplot(len(sample_size_list),3,3*i+2, sharey=ax1)\n",
    "    gen_multistep_fig(agent2, sess2, X_update2, Y_update2, step_mat_test[ind,:], label=None)\n",
    "    plt.setp(ax2.get_yticklabels(), visible=False)\n",
    "    if i == 0:\n",
    "        plt.title(r'ALPaCA, ' + r'$\\Sigma_\\epsilon = 0.3$')\n",
    "    if i < len(sample_size_list) - 1:\n",
    "        plt.setp(ax2.get_xticklabels(), visible=False)\n",
    "    \n",
    "    \n",
    "    ax3 = plt.subplot(len(sample_size_list),3,3*i+3, sharey=ax1)\n",
    "    gen_multistep_fig(agent3, sess3, X_update3, Y_update3, step_mat_test[ind,:], label=None)\n",
    "    plt.setp(ax3.get_yticklabels(), visible=False)\n",
    "    if i == 0:\n",
    "        plt.title(r'ALPaCA, ' + r'$\\Sigma_\\epsilon = 0.5$')\n",
    "    if i < len(sample_size_list) - 1:\n",
    "        plt.setp(ax3.get_xticklabels(), visible=False)\n",
    "\n",
    "plt.tight_layout(w_pad=0.0,h_pad=0.2)\n",
    "plt.savefig('figures/multistep_varying_noise.pdf')\n",
    "plt.show()"
   ]
  },
  {
   "cell_type": "code",
   "execution_count": null,
   "metadata": {},
   "outputs": [],
   "source": [
    "K,L = sess1.run([agent.K, agent.L])\n",
    "x_range = np.reshape( np.linspace(-5,5,100), (1,100,1) )\n",
    "phi = sess1.run( agent.phi, {agent.x: x_range} ) #agent.encode(sess,x_range)\n",
    "plot_sample_fns(x_range,phi,K,L,sess1.run(agent.SigEps),10)"
   ]
  },
  {
   "cell_type": "code",
   "execution_count": null,
   "metadata": {},
   "outputs": [],
   "source": [
    "x_range = np.reshape( np.linspace(-5,5,100), (1,100,1) )\n",
    "gen_sin_bases_fig(agent, sess1, x_range, 32)"
   ]
  },
  {
   "cell_type": "code",
   "execution_count": null,
   "metadata": {},
   "outputs": [],
   "source": []
  }
 ],
 "metadata": {
  "kernelspec": {
   "display_name": "Python 3",
   "language": "python",
   "name": "python3"
  },
  "language_info": {
   "codemirror_mode": {
    "name": "ipython",
    "version": 3
   },
   "file_extension": ".py",
   "mimetype": "text/x-python",
   "name": "python",
   "nbconvert_exporter": "python",
   "pygments_lexer": "ipython3",
   "version": "3.5.2"
  }
 },
 "nbformat": 4,
 "nbformat_minor": 2
}
