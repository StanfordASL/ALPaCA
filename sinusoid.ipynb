{
 "cells": [
  {
   "cell_type": "code",
   "execution_count": null,
   "metadata": {},
   "outputs": [],
   "source": [
    "%load_ext autoreload\n",
    "%autoreload 2\n",
    "import numpy as np\n",
    "import gym\n",
    "from main.maml_agent import MAMLAgent, register_flags\n",
    "register_flags()\n",
    "from main.alpaca import *\n",
    "from main.datagen import *\n",
    "from main.dataViz import *"
   ]
  },
  {
   "cell_type": "code",
   "execution_count": null,
   "metadata": {},
   "outputs": [],
   "source": [
    "cfg_filename = 'configs/sinusoid-config.yml'\n",
    "with open(cfg_filename,'r') as ymlfile:\n",
    "    config = yaml.load(ymlfile)"
   ]
  },
  {
   "cell_type": "code",
   "execution_count": null,
   "metadata": {},
   "outputs": [],
   "source": [
    "DG = DataGenerator(config,None,'Sinusoid')\n",
    "N_train = 5000\n",
    "N_test = 500\n",
    "test_horz = 30\n",
    "\n",
    "Y,X,phase_list,freq_list,amp_list = DG.sample_trajectories(None,test_horz,N_train,return_lists=True)\n",
    "Y_test,X_test,phase_list_test,freq_list_test,amp_list_test = DG.sample_trajectories(None,test_horz,N_test,return_lists=True)"
   ]
  },
  {
   "cell_type": "markdown",
   "metadata": {},
   "source": [
    "## Default agent"
   ]
  },
  {
   "cell_type": "code",
   "execution_count": null,
   "metadata": {},
   "outputs": [],
   "source": [
    "g1 = tf.Graph()\n",
    "sess1 = tf.InteractiveSession(config=tf.ConfigProto(log_device_placement=True), graph=g1)\n",
    "agent = ALPaCA(config)"
   ]
  },
  {
   "cell_type": "code",
   "execution_count": null,
   "metadata": {
    "scrolled": false
   },
   "outputs": [],
   "source": [
    "agent.construct_model(sess1,g1)"
   ]
  },
  {
   "cell_type": "code",
   "execution_count": null,
   "metadata": {
    "scrolled": true
   },
   "outputs": [],
   "source": [
    "agent.train(sess1,Y,X,3000)"
   ]
  },
  {
   "cell_type": "markdown",
   "metadata": {},
   "source": [
    "## Agent without meta-training"
   ]
  },
  {
   "cell_type": "code",
   "execution_count": null,
   "metadata": {},
   "outputs": [],
   "source": [
    "g2 = tf.Graph()\n",
    "sess2 = tf.Session(config=tf.ConfigProto(log_device_placement=True), graph=g2)\n",
    "agent_nometa = ALPaCA(config)\n",
    "agent_nometa.config['data_horizon'] = 0\n",
    "agent_nometa.construct_model(sess2,g2)\n",
    "agent_nometa.train(sess2, Y,X, 3000)"
   ]
  },
  {
   "cell_type": "markdown",
   "metadata": {},
   "source": [
    "## GP regression agent"
   ]
  },
  {
   "cell_type": "code",
   "execution_count": null,
   "metadata": {},
   "outputs": [],
   "source": [
    "from gp_reg import *\n",
    "\n",
    "GPR_agent = GPReg()"
   ]
  },
  {
   "cell_type": "markdown",
   "metadata": {},
   "source": [
    "## MAML Agent"
   ]
  },
  {
   "cell_type": "code",
   "execution_count": null,
   "metadata": {},
   "outputs": [],
   "source": [
    "g3 = tf.Graph()\n",
    "sess3 = tf.Session(config=tf.ConfigProto(log_device_placement=True), graph=g3)\n",
    "maml_agent = MAMLAgent(config, exp_string=\"sinusoid_test5\")"
   ]
  },
  {
   "cell_type": "code",
   "execution_count": null,
   "metadata": {},
   "outputs": [],
   "source": [
    "maml_agent.construct_model(sess3, g3)"
   ]
  },
  {
   "cell_type": "markdown",
   "metadata": {},
   "source": [
    "# Visualize all agents"
   ]
  },
  {
   "cell_type": "code",
   "execution_count": null,
   "metadata": {
    "scrolled": false
   },
   "outputs": [],
   "source": [
    "ind = 12\n",
    "sample_size_list = [0,1,2,3,5]\n",
    "plt.figure(figsize=(9,len(sample_size_list)*1))\n",
    "for i,num_pts in enumerate(sample_size_list):\n",
    "    X_update = X_test[ind:(ind+1),:num_pts,:]\n",
    "    Y_update = Y_test[ind:(ind+1),:num_pts,:]\n",
    "    \n",
    "    title=None\n",
    "    legend=False\n",
    "    if i == 0:\n",
    "        legend=True\n",
    "        title=True\n",
    "        \n",
    "    ax1 = plt.subplot(len(sample_size_list),3,3*i+1)\n",
    "    gen_sin_fig(agent, sess1, X_update, Y_update, freq_list_test[ind], phase_list_test[ind], amp_list_test[ind], label=None)\n",
    "    if i == 0:\n",
    "        plt.title('ALPaCA')\n",
    "    if i < len(sample_size_list) - 1:\n",
    "        plt.setp(ax1.get_xticklabels(), visible=False)\n",
    "    \n",
    "    ax2 = plt.subplot(len(sample_size_list),3,3*i+2, sharey=ax1)\n",
    "    gen_sin_fig(agent_nometa, sess2, X_update, Y_update, freq_list_test[ind], phase_list_test[ind], amp_list_test[ind], label=None)\n",
    "    plt.setp(ax2.get_yticklabels(), visible=False)\n",
    "    if i == 0:\n",
    "        plt.title('ALPaCA (no meta)')\n",
    "    if i < len(sample_size_list) - 1:\n",
    "        plt.setp(ax2.get_xticklabels(), visible=False)\n",
    "    \n",
    "    ax3 = plt.subplot(len(sample_size_list),3,3*i+3, sharey=ax1)\n",
    "    gen_sin_gp_fig(GPR_agent, X_update, Y_update, freq_list_test[ind], phase_list_test[ind], amp_list_test[ind], label=None)\n",
    "    plt.setp(ax3.get_yticklabels(), visible=False)\n",
    "    if i == 0:\n",
    "        plt.title('GPR')\n",
    "    if i < len(sample_size_list) - 1:\n",
    "        plt.setp(ax3.get_xticklabels(), visible=False)\n",
    "\n",
    "plt.tight_layout(w_pad=0.0,h_pad=0.2)\n",
    "plt.savefig('figures/sinusoid_three.pdf')\n",
    "plt.show()"
   ]
  },
  {
   "cell_type": "code",
   "execution_count": null,
   "metadata": {
    "scrolled": false
   },
   "outputs": [],
   "source": [
    "# compute NLL for all three models\n",
    "def gaussian_nll(y,mu,Sig):\n",
    "    n = 1\n",
    "    logdet = np.log(Sig) \n",
    "    quadform = (y-mu) \n",
    "    nll = n*np.log(2*np.pi) + logdet + ((y-mu).T * (1/Sig) * (y-mu))\n",
    "    return 0.5*nll\n",
    "\n",
    "alpaca_nll_mean = []\n",
    "alpaca_nll_var = []\n",
    "\n",
    "lpaca_nll_mean = []\n",
    "lpaca_nll_var = []\n",
    "\n",
    "gp_nll_mean = []\n",
    "gp_nll_var = []\n",
    "\n",
    "\n",
    "for j in range(test_horz):\n",
    "    nll_list_alpaca = []\n",
    "    nll_list_lpaca = []\n",
    "    nll_list_gp = []\n",
    "    \n",
    "    for ind in range(N_test):\n",
    "        X_update = X_test[ind:(ind+1),:j,:]\n",
    "        Y_update = Y_test[ind:(ind+1),:j,:]\n",
    "        x_pt = X_test[ind:(ind+1),(j):(j+1),:]\n",
    "        y_pt = Y_test[ind:(ind+1),(j):(j+1),:]\n",
    "\n",
    "        y, s = agent.test(sess1, X_update, Y_update, x_pt)\n",
    "        y_lpaca,s_lpaca = agent_nometa.test(sess2, X_update, Y_update, x_pt)\n",
    "        y_gp, s_gp = GPR_agent.test(X_update, Y_update, x_pt)\n",
    "                \n",
    "        nll_list_alpaca.append(gaussian_nll(y_pt[0,0,0],y[0,0,0],s[0,0,0,0]))\n",
    "        nll_list_lpaca.append(gaussian_nll(y_pt[0,0,0],y_lpaca[0,0,0],s_lpaca[0,0,0,0]))\n",
    "        nll_list_gp.append(gaussian_nll(y_pt[0,0,0],y_gp[0,0,0],s_gp[0,0]))\n",
    "        \n",
    "    nll_mean_alpaca = sum(nll_list_alpaca)/N_test\n",
    "    nll_var_alpaca = sum([(nl - nll_mean_alpaca)**2 for nl in nll_list_alpaca])/(N_test-1)\n",
    "    \n",
    "    nll_mean_lpaca = sum(nll_list_lpaca)/N_test\n",
    "    nll_var_lpaca = sum([(nl - nll_mean_lpaca)**2 for nl in nll_list_lpaca])/(N_test-1)\n",
    "    \n",
    "    nll_mean_gp = sum(nll_list_gp)/N_test\n",
    "    nll_var_gp = sum([(nl - nll_mean_gp)**2 for nl in nll_list_gp])/(N_test-1)\n",
    "    \n",
    "    alpaca_nll_mean.append(nll_mean_alpaca)\n",
    "    alpaca_nll_var.append(nll_var_alpaca)\n",
    "    \n",
    "    lpaca_nll_mean.append(nll_mean_lpaca)\n",
    "    lpaca_nll_var.append(nll_var_lpaca)\n",
    "    \n",
    "    gp_nll_mean.append(nll_mean_gp)\n",
    "    gp_nll_var.append(nll_var_gp)\n",
    "    \n"
   ]
  },
  {
   "cell_type": "code",
   "execution_count": null,
   "metadata": {},
   "outputs": [],
   "source": [
    "#compute MSE and time\n",
    "import time\n",
    "\n",
    "def gaussian_nll(y,mu,Sig):\n",
    "    n = 1\n",
    "    logdet = np.log(Sig) \n",
    "    quadform = (y-mu) \n",
    "    nll = n*np.log(2*np.pi) + logdet + ((y-mu).T * (1/Sig) * (y-mu))\n",
    "    return 0.5*nll\n",
    "\n",
    "def MSE(y,mu):\n",
    "    return (y-mu)**2\n",
    "\n",
    "def get_stats(meas, N):\n",
    "    mean = sum(meas)/N\n",
    "    var = sum([(nl - mean)**2 for nl in meas])/(N-1)\n",
    "    return mean, var\n",
    "\n",
    "alpaca_nll_mean = []\n",
    "alpaca_nll_var = []\n",
    "alpaca_time_mean = []\n",
    "alpaca_time_var = []\n",
    "alpaca_mse_mean = []\n",
    "alpaca_mse_var = []\n",
    "\n",
    "maml_time_mean = []\n",
    "maml_time_var = []\n",
    "maml_mse_mean = []\n",
    "maml_mse_var = []\n",
    "maml5_mse_mean = []\n",
    "maml5_mse_var = []\n",
    "\n",
    "lpaca_nll_mean = []\n",
    "lpaca_nll_var = []\n",
    "lpaca_time_mean = []\n",
    "lpaca_time_var = []\n",
    "\n",
    "gp_nll_mean = []\n",
    "gp_nll_var = []\n",
    "gp_time_mean = []\n",
    "gp_time_var = []\n",
    "\n",
    "N_test = 500\n",
    "\n",
    "for j in range(test_horz):\n",
    "    nll_list_alpaca = []\n",
    "    nll_list_lpaca = []\n",
    "    nll_list_gp = []\n",
    "    \n",
    "    mse_list_alpaca = []\n",
    "    mse_list_maml = []\n",
    "    mse_list_maml5 = []\n",
    "\n",
    "    time_list_alpaca = []\n",
    "    time_list_maml = []\n",
    "    time_list_lpaca = []\n",
    "    time_list_gp = []\n",
    "    \n",
    "    for ind in range(N_test):\n",
    "        X_update = X_test[ind:(ind+1),:j,:]\n",
    "        Y_update = Y_test[ind:(ind+1),:j,:]\n",
    "        x_pt = X_test[ind:(ind+1),(j):(j+1),:]\n",
    "        y_pt = Y_test[ind:(ind+1),(j):(j+1),:]\n",
    "    \n",
    "        t1_alpaca = time.process_time()\n",
    "        y, s = agent.test(sess1, X_update, Y_update, x_pt)\n",
    "        t2_alpaca = time.process_time()\n",
    "        \n",
    "        t1_maml = time.process_time()\n",
    "        y_maml, s = maml_agent.test(sess3, X_update, Y_update, x_pt)\n",
    "        t2_maml = time.process_time()\n",
    "        y_maml5, s = maml_agent.test(sess3, X_update, Y_update, x_pt, num_updates=5)\n",
    "        \n",
    "        time_list_alpaca.append(t2_alpaca - t1_alpaca)\n",
    "        time_list_maml.append(t2_maml - t1_maml)\n",
    "        \n",
    "        mse_list_alpaca.append(MSE(y_pt[0,0,0],y[0,0,0]))\n",
    "        mse_list_maml.append(MSE(y_pt[0,0,0], y_maml[0,0,0]))\n",
    "        mse_list_maml5.append(MSE(y_pt[0,0,0], y_maml5[0,0,0]))\n",
    "        \n",
    "    time_mean_alpaca, time_var_alpaca = get_stats(time_list_alpaca,N_test)\n",
    "    time_mean_maml, time_var_maml = get_stats(time_list_maml,N_test)\n",
    "    \n",
    "    mse_mean_alpaca, mse_var_alpaca = get_stats(mse_list_alpaca,N_test)\n",
    "    mse_mean_maml, mse_var_maml = get_stats(mse_list_maml,N_test)\n",
    "    mse_mean_maml5, mse_var_maml5 = get_stats(mse_list_maml5,N_test)\n",
    "    \n",
    "    alpaca_time_mean.append(time_mean_alpaca)\n",
    "    alpaca_time_var.append(time_var_alpaca)\n",
    "    \n",
    "    maml_time_mean.append(time_mean_maml)\n",
    "    maml_time_var.append(time_var_maml)\n",
    "    \n",
    "    alpaca_mse_mean.append(mse_mean_alpaca)\n",
    "    alpaca_mse_var.append(mse_var_alpaca)\n",
    "    \n",
    "    maml_mse_mean.append(mse_mean_maml)\n",
    "    maml_mse_var.append(mse_var_maml)\n",
    "    \n",
    "    maml5_mse_mean.append(mse_mean_maml5)\n",
    "    maml5_mse_var.append(mse_var_maml5)"
   ]
  },
  {
   "cell_type": "code",
   "execution_count": null,
   "metadata": {},
   "outputs": [],
   "source": [
    "plt.figure(figsize=(3.5,3))\n",
    "nll_plot(alpaca_nll_mean,alpaca_nll_var,lpaca_nll_mean,lpaca_nll_var,gp_nll_mean,gp_nll_var,N_test,legend=True)\n",
    "plt.savefig('figures/nll_sinusoid.pdf')\n",
    "plt.show()"
   ]
  },
  {
   "cell_type": "code",
   "execution_count": null,
   "metadata": {},
   "outputs": [],
   "source": [
    "plt.figure(figsize=(3.5,3))\n",
    "mse_plot(alpaca_mse_mean,alpaca_mse_var,maml_mse_mean,maml_mse_var,maml5_mse_mean,maml5_mse_var,N_test,legend=True)\n",
    "plt.tight_layout()\n",
    "plt.savefig('figures/mse_sinusoid.pdf')\n",
    "plt.show()"
   ]
  },
  {
   "cell_type": "code",
   "execution_count": null,
   "metadata": {},
   "outputs": [],
   "source": [
    "plt.figure(figsize=(3.5,3))\n",
    "time_plot(alpaca_time_mean,alpaca_time_var,lpaca_time_mean,lpaca_time_var,gp_time_mean,gp_time_var,N_test,legend=True)\n",
    "plt.savefig('figures/time_sinusoid.pdf')\n",
    "plt.show()"
   ]
  }
 ],
 "metadata": {
  "kernelspec": {
   "display_name": "Python 3",
   "language": "python",
   "name": "python3"
  },
  "language_info": {
   "codemirror_mode": {
    "name": "ipython",
    "version": 3
   },
   "file_extension": ".py",
   "mimetype": "text/x-python",
   "name": "python",
   "nbconvert_exporter": "python",
   "pygments_lexer": "ipython3",
   "version": "3.5.2"
  }
 },
 "nbformat": 4,
 "nbformat_minor": 2
}
