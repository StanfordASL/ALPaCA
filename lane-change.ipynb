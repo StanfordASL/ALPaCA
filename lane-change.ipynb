{
 "cells": [
  {
   "cell_type": "code",
   "execution_count": 12,
   "metadata": {},
   "outputs": [
    {
     "name": "stdout",
     "output_type": "stream",
     "text": [
      "The autoreload extension is already loaded. To reload it, use:\n",
      "  %reload_ext autoreload\n"
     ]
    }
   ],
   "source": [
    "%load_ext autoreload\n",
    "%autoreload 2\n",
    "import numpy as np\n",
    "import gym\n",
    "from main.maml_agent import MAMLAgent, MAMLDynamics, register_flags\n",
    "register_flags()\n",
    "from main.alpaca import *\n",
    "from main.dataset import *\n",
    "from main.dataViz import *\n",
    "import yaml"
   ]
  },
  {
   "cell_type": "code",
   "execution_count": 2,
   "metadata": {},
   "outputs": [],
   "source": [
    "cfg_filename = 'configs/swerving-config.yml'\n",
    "with open(cfg_filename,'r') as ymlfile:\n",
    "    config = yaml.load(ymlfile)"
   ]
  },
  {
   "cell_type": "code",
   "execution_count": 3,
   "metadata": {
    "scrolled": false
   },
   "outputs": [],
   "source": [
    "import pandas as pd\n",
    "trajs = pd.read_pickle(\"data/trajectories_slim.pkl\")"
   ]
  },
  {
   "cell_type": "code",
   "execution_count": 4,
   "metadata": {},
   "outputs": [],
   "source": [
    "# build traj dataset \n",
    "traj_mat = np.zeros((1106,33,8))\n",
    "traj_mat_p = np.zeros((1106,33,8))\n",
    "for i,label in enumerate(['x1', 'y1', 'xd1', 'yd1', 'x2', 'y2','xd2', 'yd2']):\n",
    "    itr = -1\n",
    "    for k,v in trajs[label].items():\n",
    "        if k[1] == 0:\n",
    "            itr += 1\n",
    "        if k[1] < 33:\n",
    "            traj_mat[itr,k[1],i] = v\n",
    "        if (not (k[1] == 0)) and k[1]<34:\n",
    "            traj_mat_p[itr,k[1]-1,i] = v\n",
    "\n",
    "#shuffle this data\n",
    "inds = np.random.choice(traj_mat.shape[0],traj_mat.shape[0])\n",
    "traj_mat = traj_mat[inds,:,:]\n",
    "traj_mat_p = traj_mat_p[inds,:,:]\n",
    "            \n",
    "N_train = 1000\n",
    "N_test = 100\n",
    "X = traj_mat[:1000,:,:]\n",
    "Y = traj_mat_p[:1000,:,:] #- X\n",
    "\n",
    "X_test = traj_mat[1000:1100,:,:]\n",
    "Y_test = traj_mat_p[1000:1100,:,:] #- X_test"
   ]
  },
  {
   "cell_type": "code",
   "execution_count": 5,
   "metadata": {},
   "outputs": [],
   "source": [
    "dataset = PresampledDataset(X,Y)\n",
    "maml_dataset = PresampledDataset(X,Y-X) # MAML Agent asssums change in state as targets"
   ]
  },
  {
   "cell_type": "markdown",
   "metadata": {},
   "source": [
    "## Default agent"
   ]
  },
  {
   "cell_type": "code",
   "execution_count": 6,
   "metadata": {},
   "outputs": [],
   "source": [
    "g1 = tf.Graph()\n",
    "sess1 = tf.Session(config=tf.ConfigProto(log_device_placement=True), graph=g1)\n",
    "agent = AdaptiveDynamics(config, sess1, g1)"
   ]
  },
  {
   "cell_type": "code",
   "execution_count": 7,
   "metadata": {
    "scrolled": false
   },
   "outputs": [],
   "source": [
    "agent.construct_model()"
   ]
  },
  {
   "cell_type": "code",
   "execution_count": 8,
   "metadata": {
    "scrolled": false
   },
   "outputs": [
    {
     "name": "stdout",
     "output_type": "stream",
     "text": [
      "loss: 19.321184\n",
      "loss: -36.057186\n",
      "loss: -37.37591\n",
      "loss: -39.852806\n",
      "loss: -35.74457\n",
      "loss: -39.592957\n",
      "loss: -39.360657\n",
      "loss: -38.77753\n",
      "loss: -41.7994\n",
      "loss: -39.26209\n",
      "loss: -41.153946\n",
      "loss: -38.630383\n",
      "loss: -39.10588\n",
      "loss: -40.054386\n",
      "loss: -41.52416\n",
      "loss: -40.481388\n",
      "loss: -41.28732\n",
      "loss: -41.281418\n",
      "loss: -42.21055\n",
      "loss: -41.30387\n",
      "loss: -38.92493\n",
      "loss: -38.63839\n",
      "loss: -41.016827\n",
      "loss: -42.217274\n",
      "loss: -42.664707\n",
      "loss: -39.918076\n",
      "loss: -41.88746\n",
      "loss: -39.995014\n",
      "loss: -39.149742\n",
      "loss: -40.802795\n",
      "loss: -41.89855\n",
      "loss: -42.160683\n",
      "loss: -39.567616\n",
      "loss: -38.849953\n",
      "loss: -40.340633\n",
      "loss: -39.61259\n",
      "loss: -43.747055\n",
      "loss: -39.86125\n",
      "loss: -40.965702\n",
      "loss: -39.00787\n",
      "loss: -42.26273\n",
      "loss: -41.571476\n",
      "loss: -40.79655\n",
      "loss: -42.182148\n",
      "loss: -39.855515\n",
      "loss: -41.820103\n",
      "loss: -43.63775\n",
      "loss: -39.272903\n",
      "loss: -40.224857\n",
      "loss: -40.83983\n",
      "loss: -39.842117\n",
      "loss: -42.986134\n",
      "loss: -39.829716\n",
      "loss: -41.13941\n",
      "loss: -41.563087\n",
      "loss: -42.720005\n",
      "loss: -42.069725\n",
      "loss: -40.695724\n",
      "loss: -41.62639\n",
      "loss: -41.675476\n",
      "loss: -43.726627\n",
      "loss: -41.747654\n",
      "loss: -40.994186\n",
      "loss: -43.55334\n",
      "loss: -43.493862\n",
      "loss: -42.757298\n",
      "loss: -40.609936\n",
      "loss: -42.364796\n",
      "loss: -42.418312\n",
      "loss: -40.868626\n",
      "loss: -41.33305\n",
      "loss: -41.26039\n",
      "loss: -41.89735\n",
      "loss: -41.087513\n",
      "loss: -42.903427\n",
      "loss: -41.913197\n",
      "loss: -40.51405\n",
      "loss: -41.860413\n",
      "loss: -41.986816\n",
      "loss: -41.192688\n"
     ]
    }
   ],
   "source": [
    "agent.train(dataset,4000)"
   ]
  },
  {
   "cell_type": "markdown",
   "metadata": {},
   "source": [
    "## No Meta Agent"
   ]
  },
  {
   "cell_type": "code",
   "execution_count": 9,
   "metadata": {},
   "outputs": [],
   "source": [
    "g2 = tf.Graph()\n",
    "sess2 = tf.Session(config=tf.ConfigProto(log_device_placement=True), graph=g2)\n",
    "agent_nometa = AdaptiveDynamics(config,sess2,g2)\n",
    "agent_nometa.config['data_horizon'] = 0\n",
    "agent_nometa.construct_model()"
   ]
  },
  {
   "cell_type": "code",
   "execution_count": 10,
   "metadata": {},
   "outputs": [
    {
     "name": "stdout",
     "output_type": "stream",
     "text": [
      "loss: 59.60819\n",
      "loss: -13.76777\n",
      "loss: -18.640368\n",
      "loss: -19.502113\n",
      "loss: -22.139463\n",
      "loss: -23.322882\n",
      "loss: -25.33772\n",
      "loss: -24.15594\n",
      "loss: -25.434765\n",
      "loss: -23.240166\n",
      "loss: -26.202667\n",
      "loss: -24.995403\n",
      "loss: -26.291586\n",
      "loss: -25.993305\n",
      "loss: -27.41783\n",
      "loss: -27.757568\n",
      "loss: -27.889013\n",
      "loss: -25.004883\n",
      "loss: -26.868948\n",
      "loss: -25.752502\n",
      "loss: -26.991152\n",
      "loss: -28.328308\n",
      "loss: -26.918816\n",
      "loss: -27.373098\n",
      "loss: -28.72596\n",
      "loss: -27.934967\n",
      "loss: -27.24559\n",
      "loss: -27.691471\n",
      "loss: -28.076485\n",
      "loss: -28.686188\n",
      "loss: -28.668129\n",
      "loss: -24.743639\n",
      "loss: -27.491312\n",
      "loss: -24.62235\n",
      "loss: -27.047703\n",
      "loss: -27.347136\n",
      "loss: -27.419785\n",
      "loss: -26.61227\n",
      "loss: -29.147024\n",
      "loss: -29.106937\n"
     ]
    }
   ],
   "source": [
    "agent_nometa.train(dataset, 2000)"
   ]
  },
  {
   "cell_type": "markdown",
   "metadata": {},
   "source": [
    "## MAML Agent"
   ]
  },
  {
   "cell_type": "code",
   "execution_count": 13,
   "metadata": {},
   "outputs": [
    {
     "name": "stdout",
     "output_type": "stream",
     "text": [
      "using sinusoid arch\n",
      "INFO:tensorflow:Summary name metatrain_Pre-update loss is illegal; using metatrain_Pre-update_loss instead.\n",
      "INFO:tensorflow:Summary name metatrain_Post-update loss, step 1 is illegal; using metatrain_Post-update_loss__step_1 instead.\n",
      "INFO:tensorflow:Summary name metatrain_Post-update loss, step 2 is illegal; using metatrain_Post-update_loss__step_2 instead.\n",
      "INFO:tensorflow:Summary name metatrain_Post-update loss, step 3 is illegal; using metatrain_Post-update_loss__step_3 instead.\n",
      "INFO:tensorflow:Summary name metatrain_Post-update loss, step 4 is illegal; using metatrain_Post-update_loss__step_4 instead.\n",
      "INFO:tensorflow:Summary name metatrain_Post-update loss, step 5 is illegal; using metatrain_Post-update_loss__step_5 instead.\n",
      "Restoring model weights from summaries/swerve_test/model24999\n",
      "INFO:tensorflow:Restoring parameters from summaries/swerve_test/model24999\n"
     ]
    }
   ],
   "source": [
    "g3 = tf.Graph()\n",
    "sess3 = tf.Session(config=tf.ConfigProto(log_device_placement=True), graph=g3)\n",
    "maml_model = MAMLDynamics(config, sess3,g3, exp_string=\"swerve_test\")\n",
    "maml_model.construct_model()"
   ]
  },
  {
   "cell_type": "code",
   "execution_count": 110,
   "metadata": {},
   "outputs": [
    {
     "name": "stdout",
     "output_type": "stream",
     "text": [
      "Done initializing, starting training.\n",
      "Pretrain Iteration 1000: 2105.2122, 1.5411372\n",
      "Pretrain Iteration 2000: 9.062321, 0.70427525\n",
      "Pretrain Iteration 3000: 0.03033607, 0.03590636\n",
      "Pretrain Iteration 4000: 0.033290345, 0.03782547\n",
      "Pretrain Iteration 5000: 0.02975278, 0.031974547\n",
      "Pretrain Iteration 6000: 0.0335887, 0.0308053\n",
      "Pretrain Iteration 7000: 0.032147028, 0.028296623\n",
      "Pretrain Iteration 8000: 0.03141883, 0.0265863\n",
      "Pretrain Iteration 9000: 0.030034263, 0.023689246\n",
      "Iteration 0: 0.02941325, 0.023066929\n",
      "Iteration 1000: 0.035483308, 0.025221905\n",
      "Iteration 2000: 0.029749533, 0.023075718\n",
      "Iteration 3000: 0.02817047, 0.02512588\n",
      "Iteration 4000: 0.029395252, 0.02169444\n",
      "Iteration 5000: 0.02988854, 0.023968123\n",
      "Iteration 6000: 0.027215606, 0.019131586\n",
      "Iteration 7000: 0.026791587, 0.018850278\n",
      "Iteration 8000: 0.026990315, 0.01895899\n",
      "Iteration 9000: 0.026210386, 0.017440308\n",
      "Iteration 10000: 0.028980434, 0.019680455\n",
      "Iteration 11000: 0.027771283, 0.01756111\n",
      "Iteration 12000: 0.027501797, 0.01662932\n",
      "Iteration 13000: 0.028956603, 0.016773377\n",
      "Iteration 14000: 0.028970543, 0.016805198\n"
     ]
    }
   ],
   "source": [
    "maml_model.train(maml_dataset, 15000)"
   ]
  },
  {
   "cell_type": "code",
   "execution_count": 14,
   "metadata": {
    "scrolled": false
   },
   "outputs": [],
   "source": [
    "def plot_swerve(agent,X,Y,N_samples=30,T=33,T_rollout=12, ind=0):\n",
    "    #plot trajs for each car\n",
    "    plt.plot(X[ind,:,0],X[ind,:,1],color='k',linestyle=':', alpha=0.5)\n",
    "    plt.plot(X[ind,:,4],X[ind,:,5],color='k', linestyle=':', alpha=0.5)\n",
    "    for Nu in [0,10,20]:\n",
    "        tt = np.arange(T+1)\n",
    "        x_dim = Y.shape[2]\n",
    "        actions = X[0,:,x_dim:]\n",
    "        agent.reset_to_prior()\n",
    "        for t in range(0,Nu):\n",
    "            x = X[0,t,:x_dim]\n",
    "            u = X[0,t,x_dim:]\n",
    "            xp = Y[0,t,:]\n",
    "            agent.incorporate_transition(x,u,xp)\n",
    "            \n",
    "        x_pred = np.zeros([N_samples, T+1, x_dim])\n",
    "        x_pred[:,:Nu+1,:] = X[ind, :Nu+1, :x_dim]\n",
    "        Ks = agent.sample_dynamics_matrices(N_samples)\n",
    "        x_pred[:,Nu:,:] = agent.sample_rollout(X[ind,Nu,:], actions[Nu:,:], Ks)\n",
    "\n",
    "        #plot trajs for each car\n",
    "        colors = ['C0','C1']\n",
    "        for j in range(N_samples):\n",
    "            plt.plot(x_pred[j,Nu:Nu+T_rollout,0], x_pred[j,Nu:Nu+T_rollout,1], color=colors[0], alpha=5.0/N_samples)\n",
    "            plt.plot(x_pred[j,Nu:Nu+T_rollout,4], x_pred[j,Nu:Nu+T_rollout,5], color=colors[1], alpha=5.0/N_samples)\n",
    "        plt.plot(X[ind,Nu:Nu+T_rollout,0],X[ind,Nu:Nu+T_rollout,1],color='k',alpha=0.5)\n",
    "        plt.plot(X[ind,Nu:Nu+T_rollout,4],X[ind,Nu:Nu+T_rollout,5],color='k',alpha=0.5)\n",
    "\n",
    "def plot_swerve_maml(agent,X,Y,N_samples=30,T=33,T_rollout=12,ind=0):\n",
    "    #plot trajs for each car\n",
    "    plt.plot(X[ind,:,0],X[ind,:,1],color='k',linestyle=':', alpha=0.5)\n",
    "    plt.plot(X[ind,:,4],X[ind,:,5],color='k', linestyle=':', alpha=0.5)\n",
    "    for Nu in [0,10,20]:\n",
    "        tt = np.arange(T+1)\n",
    "        x_dim = Y.shape[2]\n",
    "        actions = X[0,:,x_dim:]\n",
    "        agent.reset_to_prior()\n",
    "        for t in range(0,Nu):\n",
    "            x = X[ind,t,:x_dim]\n",
    "            u = X[ind,t,x_dim:]\n",
    "            xp = Y[ind,t,:]\n",
    "            agent.incorporate_transition(x,u,xp)\n",
    "\n",
    "\n",
    "        x_pred = np.zeros([1, T+1, x_dim])\n",
    "        x_pred[:,:Nu+1,:] = X[ind, :Nu+1, :x_dim]\n",
    "        x_pred[:,Nu+1:,:] = agent.sample_rollout(x_pred[:,Nu,:], actions[Nu:,:])\n",
    "\n",
    "\n",
    "        colors = ['C0','C1']\n",
    "        plt.plot(x_pred[0,Nu:Nu+T_rollout,0], x_pred[0,Nu:Nu+T_rollout,1], color=colors[0], alpha=0.8)\n",
    "        plt.plot(x_pred[0,Nu:Nu+T_rollout,4], x_pred[0,Nu:Nu+T_rollout,5], color=colors[1], alpha=0.8)\n",
    "        plt.plot(X[ind,Nu:Nu+T_rollout,0],X[ind,Nu:Nu+T_rollout,1],color='k',alpha=0.5)\n",
    "        plt.plot(X[ind,Nu:Nu+T_rollout,4],X[ind,Nu:Nu+T_rollout,5],color='k',alpha=0.5)"
   ]
  },
  {
   "cell_type": "code",
   "execution_count": 15,
   "metadata": {},
   "outputs": [
    {
     "name": "stderr",
     "output_type": "stream",
     "text": [
      "/home/apoorva/ALPaCA/main/alpaca.py:271: RuntimeWarning: covariance is not positive-semidefinite.\n",
      "  K_vec = np.random.multivariate_normal(mean,cov)\n",
      "/home/apoorva/ALPaCA/venv/lib/python3.5/site-packages/matplotlib/font_manager.py:1328: UserWarning: findfont: Font family ['serif'] not found. Falling back to DejaVu Sans\n",
      "  (prop.get_family(), self.defaultFamily[fontext]))\n",
      "/home/apoorva/ALPaCA/venv/lib/python3.5/site-packages/matplotlib/font_manager.py:1328: UserWarning: findfont: Font family ['serif'] not found. Falling back to DejaVu Sans\n",
      "  (prop.get_family(), self.defaultFamily[fontext]))\n",
      "/home/apoorva/ALPaCA/venv/lib/python3.5/site-packages/matplotlib/font_manager.py:1328: UserWarning: findfont: Font family ['serif'] not found. Falling back to DejaVu Sans\n",
      "  (prop.get_family(), self.defaultFamily[fontext]))\n",
      "/home/apoorva/ALPaCA/venv/lib/python3.5/site-packages/matplotlib/font_manager.py:1328: UserWarning: findfont: Font family ['serif'] not found. Falling back to DejaVu Sans\n",
      "  (prop.get_family(), self.defaultFamily[fontext]))\n",
      "/home/apoorva/ALPaCA/venv/lib/python3.5/site-packages/matplotlib/font_manager.py:1328: UserWarning: findfont: Font family ['serif'] not found. Falling back to DejaVu Sans\n",
      "  (prop.get_family(), self.defaultFamily[fontext]))\n"
     ]
    },
    {
     "data": {
      "image/png": "[encoded data removed]",
      "text/plain": [
       "<Figure size 396x648 with 8 Axes>"
      ]
     },
     "metadata": {},
     "output_type": "display_data"
    }
   ],
   "source": [
    "N_examples = 4\n",
    "plt.figure(figsize=(5.5,9))\n",
    "for i, ind in enumerate(np.random.choice(100, N_examples)):\n",
    "    ax1 = plt.subplot(N_examples*2, 2, 2*i + 1)\n",
    "    plot_swerve(agent,X_test,Y_test,T_rollout=10,ind=ind)\n",
    "    plt.ylabel('Lane Position')\n",
    "    if i == 0:\n",
    "        plt.title('ALPaCA')\n",
    "    if i < N_examples - 1:\n",
    "        plt.setp(ax1.get_xticklabels(), visible=False)\n",
    "    if i == N_examples - 1:\n",
    "        plt.xlabel('Longitudinal Position')\n",
    "        \n",
    "    ax3 = plt.subplot(N_examples*2, 2, 2*i + 2, sharey=ax1)\n",
    "    plot_swerve_maml(maml_model,X_test,Y_test,T_rollout=10,ind=ind)\n",
    "    if i == 0:\n",
    "        plt.title('MAML')\n",
    "    if i < N_examples - 1:\n",
    "        plt.setp(ax3.get_xticklabels(), visible=False)\n",
    "    plt.setp(ax3.get_yticklabels(), visible=False)\n",
    "    if i == N_examples - 1:\n",
    "        plt.xlabel('Longitudinal Position')\n",
    "\n",
    "plt.tight_layout(w_pad=0.0,h_pad=-0.5)\n",
    "plt.savefig('figures/swerving_rollouts.pdf') \n",
    "plt.show()"
   ]
  },
  {
   "cell_type": "code",
   "execution_count": 20,
   "metadata": {},
   "outputs": [],
   "source": [
    "# NLL computation\n",
    "import time\n",
    "\n",
    "def gaussian_nll(y,mu,Sig):\n",
    "    _,T,n = y.shape\n",
    "    total_logdet = 0\n",
    "    total_quadform = 0\n",
    "    \n",
    "    for t in range(T):\n",
    "        total_logdet += np.log(np.linalg.det(Sig[0,t,:,:])) #np.log(np.linalg.det(Sig))\n",
    "        total_quadform += ((y[0:1,t,:]-mu[0:1,t,:]) @ (np.linalg.inv(Sig[0,t,:,:])) @ (y[0:1,t,:]-mu[0:1,t,:]).T)\n",
    "    nll = n*np.log(2*np.pi) + (total_logdet + total_quadform)/T\n",
    "    \n",
    "    return 0.5*nll[0,0]\n",
    "\n",
    "def MSE(y,mu):\n",
    "    return np.mean( np.sum( (y-mu)**2, axis=-1) )\n",
    "\n",
    "def get_stats(meas, N):\n",
    "    mean = sum(meas)/N\n",
    "    var = sum([(nl - mean)**2 for nl in meas])/(N-1)\n",
    "    return mean, var\n",
    "\n",
    "alpaca_nll_mean = []\n",
    "alpaca_nll_var = []\n",
    "alpaca_time_mean = []\n",
    "alpaca_time_var = []\n",
    "alpaca_mse_mean = []\n",
    "alpaca_mse_var = []\n",
    "\n",
    "maml_time_mean = []\n",
    "maml_time_var = []\n",
    "maml_mse_mean = []\n",
    "maml_mse_var = []\n",
    "maml5_mse_mean = []\n",
    "maml5_mse_var = []\n",
    "\n",
    "lpaca_nll_mean = []\n",
    "lpaca_nll_var = []\n",
    "lpaca_time_mean = []\n",
    "lpaca_time_var = []\n",
    "\n",
    "\n",
    "prior_nll_mean = []\n",
    "prior_nll_var = []\n",
    "\n",
    "N_test = 100\n",
    "data_horz = 30\n",
    "for j in range(0,data_horz):\n",
    "    nll_list_alpaca = []\n",
    "    nll_list_lpaca = []\n",
    "    \n",
    "    mse_list_alpaca = []\n",
    "    mse_list_maml = []\n",
    "    mse_list_maml5 = []\n",
    "\n",
    "    time_list_alpaca = []\n",
    "    time_list_maml = []\n",
    "    time_list_lpaca = []\n",
    "    \n",
    "    nll_list_prior = []\n",
    "\n",
    "    \n",
    "    for ind in range(N_test):\n",
    "        X_update = X_test[ind:(ind+1),:j,:]\n",
    "        Y_update = Y_test[ind:(ind+1),:j,:]\n",
    "        \n",
    "        X_empty = X_test[ind:(ind+1),:0,:]\n",
    "        Y_empty = Y_test[ind:(ind+1),:0,:]\n",
    "                \n",
    "        x_pt = X_test[ind:(ind+1),:,:]\n",
    "        y_pt = Y_test[ind:(ind+1),:,:]\n",
    "    \n",
    "        t1_alpaca = time.process_time()\n",
    "        y, s = agent.test(X_update, Y_update, x_pt)\n",
    "        t2_alpaca = time.process_time()\n",
    "        \n",
    "        y_prior,s_prior = agent_nometa.test(X_empty, Y_empty, x_pt)\n",
    "        \n",
    "        t1_maml = time.process_time()\n",
    "        y_maml, _ = maml_model.test(X_update, Y_update - X_update, x_pt)\n",
    "        t2_maml = time.process_time()\n",
    "        y_maml5, _ = maml_model.test(X_update, Y_update - X_update, x_pt, num_updates=5)\n",
    "        t1_lpaca = time.process_time()\n",
    "        y_lpaca,s_lpaca = agent_nometa.test(X_update, Y_update, x_pt)\n",
    "        t2_lpaca = time.process_time()\n",
    "        \n",
    "        time_list_alpaca.append(t2_alpaca - t1_alpaca)\n",
    "        time_list_maml.append(t2_maml - t1_maml)\n",
    "        time_list_lpaca.append(t2_lpaca - t1_lpaca)\n",
    "            \n",
    "        nll_list_alpaca.append(gaussian_nll(y_pt,y,s))\n",
    "        nll_list_lpaca.append(gaussian_nll(y_pt,y_lpaca,s_lpaca))\n",
    "        nll_list_prior.append(gaussian_nll(y_pt,y_prior,s_prior))\n",
    "        \n",
    "        mse_list_alpaca.append(MSE(y_pt,y))\n",
    "        mse_list_maml.append(MSE(y_pt-x_pt, y_maml))\n",
    "        mse_list_maml5.append(MSE(y_pt-x_pt, y_maml5))\n",
    "        \n",
    "    nll_mean_alpaca, nll_var_alpaca = get_stats(nll_list_alpaca,N_test)\n",
    "    nll_mean_lpaca, nll_var_lpaca = get_stats(nll_list_lpaca,N_test)\n",
    "    nll_mean_prior, nll_var_prior = get_stats(nll_list_prior,N_test)\n",
    "\n",
    "    time_mean_alpaca, time_var_alpaca = get_stats(time_list_alpaca,N_test)\n",
    "    time_mean_lpaca, time_var_lpaca = get_stats(time_list_lpaca,N_test)\n",
    "    \n",
    "    mse_mean_alpaca, mse_var_alpaca = get_stats(mse_list_alpaca,N_test)\n",
    "    mse_mean_maml, mse_var_maml = get_stats(mse_list_maml,N_test)\n",
    "    mse_mean_maml5, mse_var_maml5 = get_stats(mse_list_maml5,N_test)\n",
    "    \n",
    "    alpaca_nll_mean.append(nll_mean_alpaca)\n",
    "    alpaca_nll_var.append(nll_var_alpaca)\n",
    "    \n",
    "    lpaca_nll_mean.append(nll_mean_lpaca)\n",
    "    lpaca_nll_var.append(nll_var_lpaca)\n",
    "    \n",
    "    prior_nll_mean.append(nll_mean_prior)\n",
    "    prior_nll_var.append(nll_var_prior)\n",
    "    \n",
    "    alpaca_time_mean.append(time_mean_alpaca)\n",
    "    alpaca_time_var.append(time_var_alpaca)\n",
    "    \n",
    "    lpaca_time_mean.append(time_mean_lpaca)\n",
    "    lpaca_time_var.append(time_var_lpaca)\n",
    "    \n",
    "    alpaca_mse_mean.append(mse_mean_alpaca)\n",
    "    alpaca_mse_var.append(mse_var_alpaca)\n",
    "    \n",
    "    maml_mse_mean.append(mse_mean_maml)\n",
    "    maml_mse_var.append(mse_var_maml)\n",
    "    \n",
    "    maml5_mse_mean.append(mse_mean_maml5)\n",
    "    maml5_mse_var.append(mse_var_maml5)"
   ]
  },
  {
   "cell_type": "code",
   "execution_count": 21,
   "metadata": {},
   "outputs": [
    {
     "name": "stderr",
     "output_type": "stream",
     "text": [
      "/home/apoorva/ALPaCA/venv/lib/python3.5/site-packages/matplotlib/font_manager.py:1328: UserWarning: findfont: Font family ['serif'] not found. Falling back to DejaVu Sans\n",
      "  (prop.get_family(), self.defaultFamily[fontext]))\n",
      "/home/apoorva/ALPaCA/venv/lib/python3.5/site-packages/matplotlib/font_manager.py:1328: UserWarning: findfont: Font family ['serif'] not found. Falling back to DejaVu Sans\n",
      "  (prop.get_family(), self.defaultFamily[fontext]))\n",
      "/home/apoorva/ALPaCA/venv/lib/python3.5/site-packages/matplotlib/font_manager.py:1328: UserWarning: findfont: Font family ['serif'] not found. Falling back to DejaVu Sans\n",
      "  (prop.get_family(), self.defaultFamily[fontext]))\n"
     ]
    },
    {
     "data": {
      "image/png": "[encoded data removed]",
      "text/plain": [
       "<Figure size 252x216 with 1 Axes>"
      ]
     },
     "metadata": {},
     "output_type": "display_data"
    }
   ],
   "source": [
    "plt.figure(figsize=(3.5,3))\n",
    "mse_plot(alpaca_mse_mean,alpaca_mse_var,maml_mse_mean,maml_mse_var,maml5_mse_mean,maml5_mse_var,N_test,legend=True)\n",
    "plt.tight_layout()\n",
    "plt.savefig('figures/mse_swerving.pdf')\n",
    "plt.show()"
   ]
  },
  {
   "cell_type": "code",
   "execution_count": 22,
   "metadata": {},
   "outputs": [
    {
     "name": "stderr",
     "output_type": "stream",
     "text": [
      "/home/apoorva/ALPaCA/venv/lib/python3.5/site-packages/matplotlib/font_manager.py:1328: UserWarning: findfont: Font family ['serif'] not found. Falling back to DejaVu Sans\n",
      "  (prop.get_family(), self.defaultFamily[fontext]))\n",
      "/home/apoorva/ALPaCA/venv/lib/python3.5/site-packages/matplotlib/font_manager.py:1328: UserWarning: findfont: Font family ['serif'] not found. Falling back to DejaVu Sans\n",
      "  (prop.get_family(), self.defaultFamily[fontext]))\n"
     ]
    },
    {
     "data": {
      "image/png": "[encoded data removed]",
      "text/plain": [
       "<Figure size 252x216 with 1 Axes>"
      ]
     },
     "metadata": {},
     "output_type": "display_data"
    }
   ],
   "source": [
    "plt.figure(figsize=(3.5,3))\n",
    "nll_plot(alpaca_nll_mean,alpaca_nll_var,lpaca_nll_mean,lpaca_nll_var,prior_nll_mean,prior_nll_var,N_test,legend=True,last_legend_label=r'ALPaCA (no update)')\n",
    "plt.tight_layout()\n",
    "plt.savefig('figures/nll_swerving.pdf')\n",
    "plt.show()"
   ]
  },
  {
   "cell_type": "code",
   "execution_count": null,
   "metadata": {},
   "outputs": [],
   "source": []
  }
 ],
 "metadata": {
  "kernelspec": {
   "display_name": "Python 3",
   "language": "python",
   "name": "python3"
  },
  "language_info": {
   "codemirror_mode": {
    "name": "ipython",
    "version": 3
   },
   "file_extension": ".py",
   "mimetype": "text/x-python",
   "name": "python",
   "nbconvert_exporter": "python",
   "pygments_lexer": "ipython3",
   "version": "3.5.2"
  }
 },
 "nbformat": 4,
 "nbformat_minor": 2
}
