{
 "cells": [
  {
   "cell_type": "code",
   "execution_count": null,
   "metadata": {},
   "outputs": [],
   "source": [
    "%load_ext autoreload\n",
    "%autoreload 2\n",
    "import numpy as np\n",
    "import gym\n",
    "from main.maml_agent import MAMLAgent, MAMLDynamics, register_flags\n",
    "register_flags()\n",
    "from main.alpaca import *\n",
    "from main.datagen import *\n",
    "from main.dataViz import *"
   ]
  },
  {
   "cell_type": "code",
   "execution_count": null,
   "metadata": {},
   "outputs": [],
   "source": [
    "cfg_filename = 'configs/swerving-config.yml'\n",
    "with open(cfg_filename,'r') as ymlfile:\n",
    "    config = yaml.load(ymlfile)"
   ]
  },
  {
   "cell_type": "code",
   "execution_count": null,
   "metadata": {
    "scrolled": false
   },
   "outputs": [],
   "source": [
    "import pandas as pd\n",
    "trajs = pd.read_pickle(\"data/trajectories_slim.pkl\")"
   ]
  },
  {
   "cell_type": "code",
   "execution_count": null,
   "metadata": {},
   "outputs": [],
   "source": [
    "# build traj dataset \n",
    "traj_mat = np.zeros((1106,33,8))\n",
    "traj_mat_p = np.zeros((1106,33,8))\n",
    "for i,label in enumerate(['x1', 'y1', 'xd1', 'yd1', 'x2', 'y2','xd2', 'yd2']):\n",
    "    itr = -1\n",
    "    for k,v in trajs[label].items():\n",
    "        if k[1] == 0:\n",
    "            itr += 1\n",
    "        if k[1] < 33:\n",
    "            traj_mat[itr,k[1],i] = v\n",
    "        if (not (k[1] == 0)) and k[1]<34:\n",
    "            traj_mat_p[itr,k[1]-1,i] = v\n",
    "\n",
    "#shuffle this data\n",
    "inds = np.random.choice(traj_mat.shape[0],traj_mat.shape[0])\n",
    "traj_mat = traj_mat[inds,:,:]\n",
    "traj_mat_p = traj_mat_p[inds,:,:]\n",
    "            \n",
    "N_train = 1000\n",
    "N_test = 100\n",
    "X = traj_mat[:1000,:,:]\n",
    "Y = traj_mat_p[:1000,:,:] - X\n",
    "\n",
    "X_test = traj_mat[1000:1100,:,:]\n",
    "Y_test = traj_mat_p[1000:1100,:,:] - X_test"
   ]
  },
  {
   "cell_type": "code",
   "execution_count": null,
   "metadata": {},
   "outputs": [],
   "source": [
    "datagen = DataGenFromData(X,Y)"
   ]
  },
  {
   "cell_type": "markdown",
   "metadata": {},
   "source": [
    "## Default agent"
   ]
  },
  {
   "cell_type": "code",
   "execution_count": null,
   "metadata": {},
   "outputs": [],
   "source": [
    "g1 = tf.Graph()\n",
    "sess1 = tf.Session(config=tf.ConfigProto(log_device_placement=True), graph=g1)\n",
    "agent = AdaptiveDynamics(config)"
   ]
  },
  {
   "cell_type": "code",
   "execution_count": null,
   "metadata": {
    "scrolled": false
   },
   "outputs": [],
   "source": [
    "agent.construct_model(sess1,g1)"
   ]
  },
  {
   "cell_type": "code",
   "execution_count": null,
   "metadata": {
    "scrolled": false
   },
   "outputs": [],
   "source": [
    "agent.train(sess1,Y,X,4000)"
   ]
  },
  {
   "cell_type": "markdown",
   "metadata": {},
   "source": [
    "## No Meta Agent"
   ]
  },
  {
   "cell_type": "code",
   "execution_count": null,
   "metadata": {},
   "outputs": [],
   "source": [
    "g2 = tf.Graph()\n",
    "sess2 = tf.Session(config=tf.ConfigProto(log_device_placement=True), graph=g2)\n",
    "agent_nometa = AdaptiveDynamics(config)\n",
    "agent_nometa.config['data_horizon'] = 0\n",
    "agent_nometa.construct_model(sess2,g2)"
   ]
  },
  {
   "cell_type": "code",
   "execution_count": null,
   "metadata": {},
   "outputs": [],
   "source": [
    "agent_nometa.train(sess2, Y,X, 2000)"
   ]
  },
  {
   "cell_type": "markdown",
   "metadata": {},
   "source": [
    "## MAML Agent"
   ]
  },
  {
   "cell_type": "code",
   "execution_count": null,
   "metadata": {},
   "outputs": [],
   "source": [
    "g3 = tf.Graph()\n",
    "sess3 = tf.Session(config=tf.ConfigProto(log_device_placement=True), graph=g3)\n",
    "maml_model = MAMLDynamics(config, exp_string=\"swerve_test\")\n",
    "maml_model.construct_model(sess3,g3)"
   ]
  },
  {
   "cell_type": "code",
   "execution_count": null,
   "metadata": {},
   "outputs": [],
   "source": [
    "maml_model.train(sess3, datagen, 25000)"
   ]
  },
  {
   "cell_type": "code",
   "execution_count": null,
   "metadata": {
    "scrolled": false
   },
   "outputs": [],
   "source": [
    "def plot_swerve(agent,sess,X,Y,N_samples=30,T=33,T_rollout=12, ind=0):\n",
    "    #plot trajs for each car\n",
    "    plt.plot(X[ind,:,0],X[ind,:,1],color='k',linestyle=':', alpha=0.5)\n",
    "    plt.plot(X[ind,:,4],X[ind,:,5],color='k', linestyle=':', alpha=0.5)\n",
    "    for Nu in [0,10,20]:\n",
    "        tt = np.arange(T+1)\n",
    "        ux = X[ind:ind+1,:Nu,:]\n",
    "        uy = Y[ind:ind+1,:Nu,:]\n",
    "\n",
    "        K0 = sess.run(agent.K)\n",
    "        L0 = sess.run(agent.L)\n",
    "        SigEps = sess.run(agent.SigEps)\n",
    "\n",
    "        Phi = sess.run( agent.phi, {agent.x: X} )\n",
    "        uPhi = Phi[ind:ind+1,:Nu,:]\n",
    "\n",
    "        Kn = K0\n",
    "        Ln = L0\n",
    "        Ln_inv = np.linalg.inv(Ln)\n",
    "        if Nu > 0:\n",
    "            Kn,Ln_inv = agent.batch_update_np(K0,L0,uPhi[0,:,:],uy[0,:,:])\n",
    "            Ln = np.linalg.inv(Ln_inv)\n",
    "\n",
    "        x_pred = np.zeros([N_samples, T+1, X.shape[2]])\n",
    "        x_pred[:,:Nu+1,:] = X[ind:ind+1, :Nu+1, :]\n",
    "\n",
    "        for j in range(N_samples):\n",
    "            K = sampleMN(Kn,Ln_inv,SigEps)\n",
    "        #         print(K)\n",
    "            for t in range(Nu,Nu+T_rollout):\n",
    "                phi_t = sess.run( agent.phi, {agent.x: x_pred[j:j+1, t:t+1, :]})\n",
    "                x_pred[j,t+1,:] = x_pred[j,t,:] + np.squeeze( phi_t[0,:,:] @ K )\n",
    "\n",
    "        #plot trajs for each car\n",
    "        colors = ['C0','C1']\n",
    "        for j in range(N_samples):\n",
    "            plt.plot(x_pred[j,Nu:Nu+T_rollout,0], x_pred[j,Nu:Nu+T_rollout,1], color=colors[0], alpha=5.0/N_samples)\n",
    "            plt.plot(x_pred[j,Nu:Nu+T_rollout,4], x_pred[j,Nu:Nu+T_rollout,5], color=colors[1], alpha=5.0/N_samples)\n",
    "        plt.plot(X[ind,Nu:Nu+T_rollout,0],X[ind,Nu:Nu+T_rollout,1],color='k',alpha=0.5)\n",
    "        plt.plot(X[ind,Nu:Nu+T_rollout,4],X[ind,Nu:Nu+T_rollout,5],color='k',alpha=0.5)\n",
    "\n",
    "def plot_swerve_maml(agent,sess,X,Y,N_samples=30,T=33,T_rollout=12,ind=0):\n",
    "    #plot trajs for each car\n",
    "    plt.plot(X[ind,:,0],X[ind,:,1],color='k',linestyle=':', alpha=0.5)\n",
    "    plt.plot(X[ind,:,4],X[ind,:,5],color='k', linestyle=':', alpha=0.5)\n",
    "    for Nu in [0,10,20]:\n",
    "        tt = np.arange(T+1)\n",
    "        x_dim = Y.shape[2]\n",
    "        actions = X[0,:,x_dim:]\n",
    "        agent.reset_to_prior()\n",
    "        for t in range(0,Nu):\n",
    "            x = X[0,t,:x_dim]\n",
    "            u = X[0,t,x_dim:]\n",
    "            xp = x + Y[0,t,:]\n",
    "\n",
    "            agent.incorporate_transition(sess, x,u,xp)\n",
    "\n",
    "\n",
    "\n",
    "        x_pred = np.zeros([1, T+1, x_dim])\n",
    "        x_pred[:,:Nu+1,:] = X[ind, :Nu+1, :x_dim]\n",
    "        x_pred[:,Nu+1:,:] = agent.sample_rollout(sess, x_pred[:,Nu,:], actions[Nu:,:])\n",
    "\n",
    "\n",
    "        colors = ['C0','C1']\n",
    "        plt.plot(x_pred[0,Nu:Nu+T_rollout,0], x_pred[0,Nu:Nu+T_rollout,1], color=colors[0], alpha=0.8)\n",
    "        plt.plot(x_pred[0,Nu:Nu+T_rollout,4], x_pred[0,Nu:Nu+T_rollout,5], color=colors[1], alpha=0.8)\n",
    "        plt.plot(X[ind,Nu:Nu+T_rollout,0],X[ind,Nu:Nu+T_rollout,1],color='k',alpha=0.5)\n",
    "        plt.plot(X[ind,Nu:Nu+T_rollout,4],X[ind,Nu:Nu+T_rollout,5],color='k',alpha=0.5)"
   ]
  },
  {
   "cell_type": "code",
   "execution_count": null,
   "metadata": {},
   "outputs": [],
   "source": [
    "N_examples = 4\n",
    "plt.figure(figsize=(5.5,9))\n",
    "for i, ind in enumerate(np.random.choice(100, N_examples)):\n",
    "    ax1 = plt.subplot(N_examples*2, 2, 2*i + 1)\n",
    "    plot_swerve(agent,sess1,X_test,Y_test,T_rollout=10,ind=ind)\n",
    "    plt.ylabel('Lane Position')\n",
    "    if i == 0:\n",
    "        plt.title('ALPaCA')\n",
    "    if i < N_examples - 1:\n",
    "        plt.setp(ax1.get_xticklabels(), visible=False)\n",
    "    if i == N_examples - 1:\n",
    "        plt.xlabel('Longitudinal Position')\n",
    "        \n",
    "    ax3 = plt.subplot(N_examples*2, 2, 2*i + 2, sharey=ax1)\n",
    "    plot_swerve_maml(maml_model,sess3,X_test,Y_test,T_rollout=10,ind=ind)\n",
    "    if i == 0:\n",
    "        plt.title('MAML')\n",
    "    if i < N_examples - 1:\n",
    "        plt.setp(ax3.get_xticklabels(), visible=False)\n",
    "    plt.setp(ax3.get_yticklabels(), visible=False)\n",
    "    if i == N_examples - 1:\n",
    "        plt.xlabel('Longitudinal Position')\n",
    "\n",
    "plt.tight_layout(w_pad=0.0,h_pad=-0.5)\n",
    "plt.savefig('figures/swerving_rollouts.pdf') \n",
    "plt.show()"
   ]
  },
  {
   "cell_type": "code",
   "execution_count": null,
   "metadata": {},
   "outputs": [],
   "source": [
    "# NLL computation\n",
    "import time\n",
    "\n",
    "def gaussian_nll(y,mu,Sig):\n",
    "    _,T,n = y.shape\n",
    "    total_logdet = 0\n",
    "    total_quadform = 0\n",
    "    \n",
    "    for t in range(T):\n",
    "        total_logdet += np.log(np.linalg.det(Sig[0,t,:,:])) #np.log(np.linalg.det(Sig))\n",
    "        total_quadform += ((y[0:1,t,:]-mu[0:1,t,:]) @ (np.linalg.inv(Sig[0,t,:,:])) @ (y[0:1,t,:]-mu[0:1,t,:]).T)\n",
    "    nll = n*np.log(2*np.pi) + (total_logdet + total_quadform)/T\n",
    "    \n",
    "    return 0.5*nll[0,0]\n",
    "\n",
    "def MSE(y,mu):\n",
    "    return np.mean( np.sum( (y-mu)**2, axis=-1) )\n",
    "\n",
    "def get_stats(meas, N):\n",
    "    mean = sum(meas)/N\n",
    "    var = sum([(nl - mean)**2 for nl in meas])/(N-1)\n",
    "    return mean, var\n",
    "\n",
    "alpaca_nll_mean = []\n",
    "alpaca_nll_var = []\n",
    "alpaca_time_mean = []\n",
    "alpaca_time_var = []\n",
    "alpaca_mse_mean = []\n",
    "alpaca_mse_var = []\n",
    "\n",
    "maml_time_mean = []\n",
    "maml_time_var = []\n",
    "maml_mse_mean = []\n",
    "maml_mse_var = []\n",
    "maml5_mse_mean = []\n",
    "maml5_mse_var = []\n",
    "\n",
    "lpaca_nll_mean = []\n",
    "lpaca_nll_var = []\n",
    "lpaca_time_mean = []\n",
    "lpaca_time_var = []\n",
    "\n",
    "\n",
    "prior_nll_mean = []\n",
    "prior_nll_var = []\n",
    "\n",
    "N_test = 100\n",
    "data_horz = 30\n",
    "for j in range(0,data_horz):\n",
    "    nll_list_alpaca = []\n",
    "    nll_list_lpaca = []\n",
    "    \n",
    "    mse_list_alpaca = []\n",
    "    mse_list_maml = []\n",
    "    mse_list_maml5 = []\n",
    "\n",
    "    time_list_alpaca = []\n",
    "    time_list_maml = []\n",
    "    time_list_lpaca = []\n",
    "    \n",
    "    nll_list_prior = []\n",
    "\n",
    "    \n",
    "    for ind in range(N_test):\n",
    "        X_update = X_test[ind:(ind+1),:j,:]\n",
    "        Y_update = Y_test[ind:(ind+1),:j,:]\n",
    "        \n",
    "        X_empty = X_test[ind:(ind+1),:0,:]\n",
    "        Y_empty = Y_test[ind:(ind+1),:0,:]\n",
    "                \n",
    "        x_pt = X_test[ind:(ind+1),:,:]\n",
    "        y_pt = Y_test[ind:(ind+1),:,:]\n",
    "    \n",
    "        t1_alpaca = time.process_time()\n",
    "        y, s = agent.test(sess1, X_update, Y_update, x_pt)\n",
    "        t2_alpaca = time.process_time()\n",
    "        \n",
    "        y_prior,s_prior = agent_nometa.test(sess2, X_empty, Y_empty, x_pt)\n",
    "        \n",
    "        t1_maml = time.process_time()\n",
    "        y_maml, _ = maml_model.test(sess3, X_update, Y_update, x_pt)\n",
    "        t2_maml = time.process_time()\n",
    "        y_maml5, _ = maml_model.test(sess3, X_update, Y_update, x_pt, num_updates=5)\n",
    "        t1_lpaca = time.process_time()\n",
    "        y_lpaca,s_lpaca = agent_nometa.test(sess2, X_update, Y_update, x_pt)\n",
    "        t2_lpaca = time.process_time()\n",
    "        \n",
    "        time_list_alpaca.append(t2_alpaca - t1_alpaca)\n",
    "        time_list_maml.append(t2_maml - t1_maml)\n",
    "        time_list_lpaca.append(t2_lpaca - t1_lpaca)\n",
    "            \n",
    "        nll_list_alpaca.append(gaussian_nll(y_pt,y,s))\n",
    "        nll_list_lpaca.append(gaussian_nll(y_pt,y_lpaca,s_lpaca))\n",
    "        nll_list_prior.append(gaussian_nll(y_pt,y_prior,s_prior))\n",
    "        \n",
    "        mse_list_alpaca.append(MSE(y_pt,y))\n",
    "        mse_list_maml.append(MSE(y_pt, y_maml))\n",
    "        mse_list_maml5.append(MSE(y_pt, y_maml5))\n",
    "        \n",
    "    nll_mean_alpaca, nll_var_alpaca = get_stats(nll_list_alpaca,N_test)\n",
    "    nll_mean_lpaca, nll_var_lpaca = get_stats(nll_list_lpaca,N_test)\n",
    "    nll_mean_prior, nll_var_prior = get_stats(nll_list_prior,N_test)\n",
    "\n",
    "    time_mean_alpaca, time_var_alpaca = get_stats(time_list_alpaca,N_test)\n",
    "    time_mean_lpaca, time_var_lpaca = get_stats(time_list_lpaca,N_test)\n",
    "    \n",
    "    mse_mean_alpaca, mse_var_alpaca = get_stats(mse_list_alpaca,N_test)\n",
    "    mse_mean_maml, mse_var_maml = get_stats(mse_list_maml,N_test)\n",
    "    mse_mean_maml5, mse_var_maml5 = get_stats(mse_list_maml5,N_test)\n",
    "    \n",
    "    alpaca_nll_mean.append(nll_mean_alpaca)\n",
    "    alpaca_nll_var.append(nll_var_alpaca)\n",
    "    \n",
    "    lpaca_nll_mean.append(nll_mean_lpaca)\n",
    "    lpaca_nll_var.append(nll_var_lpaca)\n",
    "    \n",
    "    prior_nll_mean.append(nll_mean_prior)\n",
    "    prior_nll_var.append(nll_var_prior)\n",
    "    \n",
    "    alpaca_time_mean.append(time_mean_alpaca)\n",
    "    alpaca_time_var.append(time_var_alpaca)\n",
    "    \n",
    "    lpaca_time_mean.append(time_mean_lpaca)\n",
    "    lpaca_time_var.append(time_var_lpaca)\n",
    "    \n",
    "    alpaca_mse_mean.append(mse_mean_alpaca)\n",
    "    alpaca_mse_var.append(mse_var_alpaca)\n",
    "    \n",
    "    maml_mse_mean.append(mse_mean_maml)\n",
    "    maml_mse_var.append(mse_var_maml)\n",
    "    \n",
    "    maml5_mse_mean.append(mse_mean_maml5)\n",
    "    maml5_mse_var.append(mse_var_maml5)"
   ]
  },
  {
   "cell_type": "code",
   "execution_count": null,
   "metadata": {},
   "outputs": [],
   "source": [
    "plt.figure(figsize=(3.5,3))\n",
    "mse_plot(alpaca_mse_mean,alpaca_mse_var,maml_mse_mean,maml_mse_var,maml5_mse_mean,maml5_mse_var,N_test,legend=True)\n",
    "plt.tight_layout()\n",
    "plt.savefig('figures/mse_swerving.pdf')\n",
    "plt.show()"
   ]
  },
  {
   "cell_type": "code",
   "execution_count": null,
   "metadata": {},
   "outputs": [],
   "source": [
    "plt.figure(figsize=(3.5,3))\n",
    "nll_plot(alpaca_nll_mean,alpaca_nll_var,lpaca_nll_mean,lpaca_nll_var,prior_nll_mean,prior_nll_var,N_test,legend=True,last_legend_label=r'ALPaCA (no update)')\n",
    "plt.tight_layout()\n",
    "plt.savefig('figures/nll_swerving.pdf')\n",
    "plt.show()"
   ]
  }
 ],
 "metadata": {
  "kernelspec": {
   "display_name": "Python 3",
   "language": "python",
   "name": "python3"
  },
  "language_info": {
   "codemirror_mode": {
    "name": "ipython",
    "version": 3
   },
   "file_extension": ".py",
   "mimetype": "text/x-python",
   "name": "python",
   "nbconvert_exporter": "python",
   "pygments_lexer": "ipython3",
   "version": "3.5.2"
  }
 },
 "nbformat": 4,
 "nbformat_minor": 2
}
